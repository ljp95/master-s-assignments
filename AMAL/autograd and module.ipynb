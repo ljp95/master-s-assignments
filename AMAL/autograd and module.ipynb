{
 "cells": [
  {
   "cell_type": "code",
   "execution_count": 1,
   "metadata": {},
   "outputs": [],
   "source": [
    "import torch\n",
    "from torch.autograd import Function\n",
    "from torch.autograd import gradcheck\n",
    "import matplotlib.pyplot as plt"
   ]
  },
  {
   "cell_type": "markdown",
   "metadata": {},
   "source": [
    "QUELQUES TESTS"
   ]
  },
  {
   "cell_type": "code",
   "execution_count": 2,
   "metadata": {},
   "outputs": [
    {
     "name": "stdout",
     "output_type": "stream",
     "text": [
      "a : tensor([[ 2.0686, -1.0811,  5.0914,  4.0886,  2.8676]], dtype=torch.float64,\n",
      "       requires_grad=True)\n",
      " b : tensor([[-1.3975,  0.4544, -2.9879, -1.8328, -2.9490]], dtype=torch.float64,\n",
      "       requires_grad=True)\n",
      " c : tensor([[-1.5354]], dtype=torch.float64, grad_fn=<MmBackward>)\n",
      " d : tensor([[-3.0708]], dtype=torch.float64, grad_fn=<MulBackward0>)\n",
      "\n",
      "tensor([[-1.8265,  1.1385, -4.7966, -4.2296, -1.8574]], dtype=torch.float64)\n",
      "tensor([[ 0.4842,  0.1149,  0.5896, -0.2820,  2.0203]], dtype=torch.float64)\n",
      "tensor([[2.]], dtype=torch.float64)\n",
      "tensor([[1.]], dtype=torch.float64)\n",
      "tensor([[ 2.0686, -1.0811,  5.0914,  4.0886,  2.8676]], dtype=torch.float64,\n",
      "       requires_grad=True)\n"
     ]
    }
   ],
   "source": [
    "a = torch.randn(1,5,requires_grad=True,dtype=torch.float64)\n",
    "b = torch.randn(1,5,requires_grad = True,dtype=torch.float64)\n",
    "c = a.mm(b.t())\n",
    "d = 2*c\n",
    "# print(a,b,c)\n",
    "c.retain_grad()\n",
    "d.retain_grad()\n",
    "d.backward()\n",
    "eta = 1\n",
    "with torch.no_grad():\n",
    "    a -= eta*a.grad\n",
    "    b -= eta*b.grad\n",
    "#     a.grad.zero_()\n",
    "#     b.grad.zero_()\n",
    "# print(c,tmp)\n",
    "# print(tmp*2)\n",
    "print(\"a : {}\\n b : {}\\n c : {}\\n d : {}\\n\".format(a,b,c,d))\n",
    "print(a.grad)\n",
    "print(b.grad)\n",
    "print(c.grad)\n",
    "print(d.grad)\n",
    "print(a)"
   ]
  },
  {
   "cell_type": "markdown",
   "metadata": {},
   "source": [
    "Regression linéaire en TME1"
   ]
  },
  {
   "cell_type": "markdown",
   "metadata": {},
   "source": [
    "PARTIE Module et optimiseur"
   ]
  },
  {
   "cell_type": "markdown",
   "metadata": {},
   "source": [
    "Module spécifique"
   ]
  },
  {
   "cell_type": "code",
   "execution_count": 3,
   "metadata": {},
   "outputs": [],
   "source": [
    "class twoLayers(torch.nn.Module):\n",
    "    def __init__(self,d,h,c):\n",
    "        super(twoLayers,self).__init__()\n",
    "        self.linear1 = torch.nn.Linear(d,h)\n",
    "        self.linear2 = torch.nn.Linear(h,c)\n",
    "        self.Tanh = torch.nn.Tanh()\n",
    "    def forward(self,x):\n",
    "        return self.linear2(self.Tanh(self.linear1(x)))"
   ]
  },
  {
   "cell_type": "code",
   "execution_count": 4,
   "metadata": {},
   "outputs": [
    {
     "data": {
      "image/png": "[encoded data removed]",
      "text/plain": [
       "<Figure size 432x288 with 1 Axes>"
      ]
     },
     "metadata": {
      "needs_background": "light"
     },
     "output_type": "display_data"
    }
   ],
   "source": [
    "#data\n",
    "n,d,h,c = 10,5,3,1\n",
    "x = torch.randn(n,d,dtype=torch.float32)\n",
    "y = torch.randn(n,c,dtype=torch.float32)\n",
    "list_loss = []\n",
    "\n",
    "#parameters\n",
    "eps = 1e-3\n",
    "nb_epoch = 500\n",
    "batch_size = 10\n",
    "\n",
    "#Model\n",
    "model = twoLayers(d,h,c)\n",
    "optim = torch.optim.SGD(params=model.parameters(),lr=eps)\n",
    "loss_fn = torch.nn.MSELoss(reduction='sum')\n",
    "\n",
    "#descent\n",
    "for i in range(nb_epoch):\n",
    "    yhat = model(x)\n",
    "    loss = loss_fn(y,yhat)\n",
    "    loss.backward()\n",
    "    if(i%batch_size==0):\n",
    "        list_loss.append(loss.item())\n",
    "        optim.step()\n",
    "        optim.zero_grad()\n",
    "        \n",
    "#show\n",
    "plt.plot(list(range(len(list_loss))),list_loss)\n",
    "plt.show()"
   ]
  },
  {
   "cell_type": "markdown",
   "metadata": {},
   "source": [
    "Avec torch.nn.sequential"
   ]
  },
  {
   "cell_type": "code",
   "execution_count": 5,
   "metadata": {},
   "outputs": [
    {
     "data": {
      "image/png": "[encoded data removed]",
      "text/plain": [
       "<Figure size 432x288 with 1 Axes>"
      ]
     },
     "metadata": {
      "needs_background": "light"
     },
     "output_type": "display_data"
    }
   ],
   "source": [
    "#data\n",
    "n,d,h,c = 10,5,3,1\n",
    "x = torch.randn(n,d,dtype=torch.float32)\n",
    "y = torch.randn(n,c,dtype=torch.float32)\n",
    "\n",
    "#parameters\n",
    "list_loss = []\n",
    "eps = 1e-3\n",
    "nb_epoch = 500\n",
    "batch_size = 10\n",
    "\n",
    "#model\n",
    "model = torch.nn.Sequential(torch.nn.Linear(d,h),\n",
    "                        torch.nn.Tanh(),\n",
    "                        torch.nn.Linear(h,c))\n",
    "loss_fn = torch.nn.MSELoss(reduction='sum')\n",
    "optim = torch.optim.SGD(params=model.parameters(),lr=eps)\n",
    "\n",
    "#descent\n",
    "for i in range(nb_epoch):\n",
    "    yhat = model(x)\n",
    "    loss = loss_fn(yhat,y)\n",
    "    loss.backward()\n",
    "    if i%batch_size == 0:\n",
    "        list_loss.append(loss.item())\n",
    "        optim.step()\n",
    "        optim.zero_grad()\n",
    "\n",
    "#show\n",
    "plt.plot(list(range(len(list_loss))),list_loss)\n",
    "plt.show()"
   ]
  }
 ],
 "metadata": {
  "kernelspec": {
   "display_name": "Python 3",
   "language": "python",
   "name": "python3"
  },
  "language_info": {
   "codemirror_mode": {
    "name": "ipython",
    "version": 3
   },
   "file_extension": ".py",
   "mimetype": "text/x-python",
   "name": "python",
   "nbconvert_exporter": "python",
   "pygments_lexer": "ipython3",
   "version": "3.7.4"
  }
 },
 "nbformat": 4,
 "nbformat_minor": 2
}
