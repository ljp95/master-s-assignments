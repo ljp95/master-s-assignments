{
 "cells": [
  {
   "cell_type": "markdown",
   "metadata": {},
   "source": [
    "IMPORT MODULES"
   ]
  },
  {
   "cell_type": "code",
   "execution_count": 1,
   "metadata": {},
   "outputs": [],
   "source": [
    "import torch\n",
    "from torch.utils.data import Dataset,DataLoader\n",
    "from torchvision import transforms\n",
    "import matplotlib.pyplot as plt\n",
    "import numpy as np"
   ]
  },
  {
   "cell_type": "markdown",
   "metadata": {},
   "source": [
    "DATASET AND DATALOADER"
   ]
  },
  {
   "cell_type": "markdown",
   "metadata": {},
   "source": [
    "Class"
   ]
  },
  {
   "cell_type": "code",
   "execution_count": 2,
   "metadata": {},
   "outputs": [],
   "source": [
    "class Dataset(Dataset):\n",
    "    def __init__(self,X,Y):\n",
    "        self.Y = Y\n",
    "        self.X = X.float()\n",
    "        self.X = self.X.view(len(X),-1)\n",
    "        self.mean = self.X.mean((0))\n",
    "        self.std = self.X.std((0))\n",
    "        self.X -= self.mean\n",
    "        for i in range(len(self.X[0])):\n",
    "            if self.std[i] != 0: #to avoid division by zero\n",
    "                self.X[:,i] /= self.std[i]\n",
    "    def __getitem__(self,index):\n",
    "        return self.X[index],self.Y[index]\n",
    "    def __len__(self):\n",
    "        return len(self.X)"
   ]
  },
  {
   "cell_type": "code",
   "execution_count": 3,
   "metadata": {},
   "outputs": [],
   "source": [
    "# #dataset from datamaestro\n",
    "# from datamaestro import prepare_dataset\n",
    "# ds = prepare_dataset ( \"com.lecun.mnist\" ) ;\n",
    "# train_images , train_labels = ds.files[\"train/images\" ].data(),  ds.files[ \"train/labels\" ].data()\n",
    "# test_images , test_labels = ds.files[\"test/images\" ].data(),  ds.files[ \"test/labels\" ].data()"
   ]
  },
  {
   "cell_type": "markdown",
   "metadata": {},
   "source": [
    "Dataset"
   ]
  },
  {
   "cell_type": "code",
   "execution_count": 4,
   "metadata": {},
   "outputs": [
    {
     "name": "stderr",
     "output_type": "stream",
     "text": [
      "C:\\Users\\Jp\\AppData\\Local\\Continuum\\anaconda3\\lib\\site-packages\\torchvision\\datasets\\mnist.py:53: UserWarning: train_data has been renamed data\n",
      "  warnings.warn(\"train_data has been renamed data\")\n",
      "C:\\Users\\Jp\\AppData\\Local\\Continuum\\anaconda3\\lib\\site-packages\\torchvision\\datasets\\mnist.py:43: UserWarning: train_labels has been renamed targets\n",
      "  warnings.warn(\"train_labels has been renamed targets\")\n",
      "C:\\Users\\Jp\\AppData\\Local\\Continuum\\anaconda3\\lib\\site-packages\\torchvision\\datasets\\mnist.py:58: UserWarning: test_data has been renamed data\n",
      "  warnings.warn(\"test_data has been renamed data\")\n",
      "C:\\Users\\Jp\\AppData\\Local\\Continuum\\anaconda3\\lib\\site-packages\\torchvision\\datasets\\mnist.py:48: UserWarning: test_labels has been renamed targets\n",
      "  warnings.warn(\"test_labels has been renamed targets\")\n"
     ]
    }
   ],
   "source": [
    "#dataset from torchvision\n",
    "from torchvision.datasets import MNIST\n",
    "dataset = MNIST('./data',train=True,download=True)\n",
    "train_images , train_labels = dataset.train_data,dataset.train_labels\n",
    "test_images, test_labels = dataset.test_data,dataset.test_labels\n",
    "train_data = Dataset(train_images,train_labels)"
   ]
  },
  {
   "cell_type": "markdown",
   "metadata": {},
   "source": [
    "Dataload"
   ]
  },
  {
   "cell_type": "code",
   "execution_count": 5,
   "metadata": {},
   "outputs": [
    {
     "name": "stdout",
     "output_type": "stream",
     "text": [
      "tensor([[0., 0., 0.,  ..., 0., 0., 0.],\n",
      "        [0., 0., 0.,  ..., 0., 0., 0.]]) tensor([0, 1])\n",
      "tensor([[0., 0., 0.,  ..., 0., 0., 0.],\n",
      "        [0., 0., 0.,  ..., 0., 0., 0.]]) tensor([2, 2])\n",
      "tensor([[0., 0., 0.,  ..., 0., 0., 0.],\n",
      "        [0., 0., 0.,  ..., 0., 0., 0.]]) tensor([9, 7])\n",
      "tensor([[0., 0., 0.,  ..., 0., 0., 0.],\n",
      "        [0., 0., 0.,  ..., 0., 0., 0.]]) tensor([8, 5])\n"
     ]
    }
   ],
   "source": [
    "#dataload\n",
    "batch_size = 2\n",
    "train_loader = DataLoader(Dataset(train_data.X,train_data.Y),shuffle=True,batch_size=batch_size)\n",
    "i = 0\n",
    "for x,y in train_loader:\n",
    "    if i>3:\n",
    "        break\n",
    "    print(x,y)\n",
    "    i += 1"
   ]
  },
  {
   "cell_type": "markdown",
   "metadata": {},
   "source": [
    "AUTOENCODER"
   ]
  },
  {
   "cell_type": "code",
   "execution_count": 6,
   "metadata": {},
   "outputs": [],
   "source": [
    "#autoencoder and state classes\n",
    "class Autoencoder(torch.nn.Module):\n",
    "    def __init__(self,D_in,D_h):\n",
    "        super(Autoencoder,self).__init__()\n",
    "        self.linear = torch.nn.Linear(D_in,D_h)\n",
    "        self.ReLU = torch.nn.ReLU()\n",
    "\n",
    "    def forward(self,x):\n",
    "        encoded = self.ReLU(self.linear(x))\n",
    "        reconstruct = torch.sigmoid(torch.matmul(encoded,self.linear.weight))\n",
    "        return reconstruct\n",
    "\n",
    "class State:\n",
    "    def __init__(self,model,optim,list_loss,epoch,iteration):\n",
    "        self.model = model\n",
    "        self.optim = optim\n",
    "        self.list_loss = list_loss\n",
    "        self.epoch = epoch\n",
    "        self.iteration = iteration"
   ]
  },
  {
   "cell_type": "markdown",
   "metadata": {},
   "source": [
    "Initialization"
   ]
  },
  {
   "cell_type": "code",
   "execution_count": 7,
   "metadata": {},
   "outputs": [],
   "source": [
    "from pathlib import Path\n",
    "#data\n",
    "D_in,D_h = len(train_images[0])*len(train_images[0][0]),256\n",
    "\n",
    "#params\n",
    "lr = 1e-3\n",
    "nb_epoch = 2\n",
    "batch_size = 128\n",
    "\n",
    "#model \n",
    "#Get params back\n",
    "device = torch.device('cuda' if torch.cuda.is_available() else 'cpu')\n",
    "savepath = Path(\"/\")\n",
    "if savepath.is_file():\n",
    "    with savepath.open(\"rb\") as fp:\n",
    "        state = torch.load(fp)\n",
    "else:\n",
    "    model = Autoencoder(D_in,D_h)\n",
    "    model = model.to(device)\n",
    "    optimizer = torch.optim.Adam(model.parameters(),lr=lr,weight_decay=1e-5)\n",
    "    loss_fn = torch.nn.MSELoss(reduction='sum')\n",
    "    state = State(model,optimizer,[],0,0)"
   ]
  },
  {
   "cell_type": "markdown",
   "metadata": {},
   "source": [
    "Run the model"
   ]
  },
  {
   "cell_type": "code",
   "execution_count": 8,
   "metadata": {},
   "outputs": [],
   "source": [
    "#descent\n",
    "for i in range(state.epoch, nb_epoch):\n",
    "    for x,y in train_loader:\n",
    "        #zero grad\n",
    "        state.optim.zero_grad()\n",
    "        #gpu and forward\n",
    "        x = x.to(device)\n",
    "        xhat = model(x)\n",
    "        #loss\n",
    "        loss = loss_fn(xhat,x)\n",
    "        #backpropagation\n",
    "        loss.backward()\n",
    "        #update state\n",
    "        state.optim.step()\n",
    "        state.iteration += 1\n",
    "    train_data.X = train_data.X.to(device)\n",
    "    state.list_loss.append(loss_fn(train_data.X,model(train_data.X)))\n",
    "    state.epoch += 1\n",
    "    #TO DO : fix savepath on windows\n",
    "    #with savepath.open(\"wb\") as fp:\n",
    "        #torch.save(state,fp)\n",
    "        "
   ]
  },
  {
   "cell_type": "markdown",
   "metadata": {},
   "source": [
    "Visualization"
   ]
  },
  {
   "cell_type": "code",
   "execution_count": 9,
   "metadata": {
    "scrolled": false
   },
   "outputs": [
    {
     "data": {
      "image/png": "[encoded data removed]",
      "text/plain": [
       "<Figure size 432x288 with 1 Axes>"
      ]
     },
     "metadata": {
      "needs_background": "light"
     },
     "output_type": "display_data"
    },
    {
     "data": {
      "image/png": "[encoded data removed]",
      "text/plain": [
       "<Figure size 432x288 with 1 Axes>"
      ]
     },
     "metadata": {
      "needs_background": "light"
     },
     "output_type": "display_data"
    },
    {
     "data": {
      "image/png": "[encoded data removed]",
      "text/plain": [
       "<Figure size 432x288 with 1 Axes>"
      ]
     },
     "metadata": {
      "needs_background": "light"
     },
     "output_type": "display_data"
    },
    {
     "data": {
      "image/png": "[encoded data removed]",
      "text/plain": [
       "<Figure size 432x288 with 1 Axes>"
      ]
     },
     "metadata": {
      "needs_background": "light"
     },
     "output_type": "display_data"
    },
    {
     "data": {
      "image/png": "[encoded data removed]",
      "text/plain": [
       "<Figure size 432x288 with 1 Axes>"
      ]
     },
     "metadata": {
      "needs_background": "light"
     },
     "output_type": "display_data"
    },
    {
     "data": {
      "image/png": "[encoded data removed]",
      "text/plain": [
       "<Figure size 432x288 with 1 Axes>"
      ]
     },
     "metadata": {
      "needs_background": "light"
     },
     "output_type": "display_data"
    }
   ],
   "source": [
    "indices = np.random.choice(len(train_data),3,replace= False)\n",
    "# go back to cpu\n",
    "model = model.to(torch.device('cpu'))\n",
    "train_data.X = train_data.X.to(torch.device('cpu'))\n",
    "for i in range(len(indices)):\n",
    "    ind = indices[i]\n",
    "    x = train_data.X[ind]\n",
    "    x = (model(x)*train_data.std+train_data.mean).int()\n",
    "    plt.figure()\n",
    "    plt.title(\"GT\")\n",
    "    plt.imshow(train_images[ind],cmap='gray')\n",
    "    plt.figure()\n",
    "    plt.title(\"Reconstruction\")\n",
    "    plt.imshow(x.view(28,28).detach().numpy(),cmap='gray')"
   ]
  },
  {
   "cell_type": "markdown",
   "metadata": {},
   "source": [
    "Tensorboard"
   ]
  },
  {
   "cell_type": "code",
   "execution_count": 10,
   "metadata": {},
   "outputs": [],
   "source": [
    "from torch.utils.tensorboard import SummaryWriter\n",
    "writer = SummaryWriter()\n",
    "for i in range(len(state.list_loss)):\n",
    "    writer.add_scalar('Train_cost', state.list_loss[i].item(), i)\n",
    "    #writer.add_scalar('Test_cost', test_loss[i].item(), i)\n",
    "writer.close()"
   ]
  },
  {
   "cell_type": "markdown",
   "metadata": {},
   "source": [
    "HIGHWAY NETWORKS"
   ]
  },
  {
   "cell_type": "markdown",
   "metadata": {},
   "source": [
    "Highway layer"
   ]
  },
  {
   "cell_type": "code",
   "execution_count": 11,
   "metadata": {},
   "outputs": [],
   "source": [
    "class highway_Layer(torch.nn.Module):\n",
    "    def __init__(self,D,linear_activ,gate_activ):\n",
    "        super(highway_Layer,self).__init__()\n",
    "        self.linear = torch.nn.Linear(D,D)\n",
    "        self.linear_activ = linear_activ\n",
    "        self.gate = torch.nn.Linear(D,D)\n",
    "        self.gate_activ = gate_activ\n",
    "    \n",
    "    def forward(self,x):\n",
    "        T = self.gate_activ(self.gate(x))\n",
    "        H = self.linear_activ(self.linear(x))\n",
    "        return torch.add(torch.mul(H,T),torch.mul(1.-T,x))"
   ]
  },
  {
   "cell_type": "code",
   "execution_count": 12,
   "metadata": {},
   "outputs": [
    {
     "name": "stdout",
     "output_type": "stream",
     "text": [
      "highway_Layer(\n",
      "  (linear): Linear(in_features=5, out_features=5, bias=True)\n",
      "  (linear_activ): ReLU()\n",
      "  (gate): Linear(in_features=5, out_features=5, bias=True)\n",
      "  (gate_activ): Sigmoid()\n",
      ")\n"
     ]
    }
   ],
   "source": [
    "model2 = highway_Layer(5,torch.nn.ReLU(),torch.nn.Sigmoid())\n",
    "print(model2)"
   ]
  },
  {
   "cell_type": "markdown",
   "metadata": {},
   "source": [
    "Highway network"
   ]
  },
  {
   "cell_type": "code",
   "execution_count": 13,
   "metadata": {},
   "outputs": [],
   "source": [
    "class highway_Network(torch.nn.Module):\n",
    "    def __init__(self,D_in,D_hid,D_out,number_layers,linear_activ,gate_activ):\n",
    "        super(highway_Network,self).__init__()\n",
    "        self.linear_in = torch.nn.Linear(D_in,D_hid)\n",
    "        self.highway_Layers = torch.nn.ModuleList([highway_Layer(D_hid,linear_activ,gate_activ) for i in range(number_layers)])\n",
    "        self.linear_out = torch.nn.Linear(D_hid,D_out)\n",
    "    def forward(self,x):\n",
    "        x = self.linear_in(x)\n",
    "        for layer in self.highway_layers:\n",
    "            x = layer(x)\n",
    "        x = self.linear_out(x)\n",
    "        return x"
   ]
  },
  {
   "cell_type": "code",
   "execution_count": 14,
   "metadata": {},
   "outputs": [
    {
     "name": "stdout",
     "output_type": "stream",
     "text": [
      "highway_Network(\n",
      "  (linear_in): Linear(in_features=5, out_features=3, bias=True)\n",
      "  (highway_Layers): ModuleList(\n",
      "    (0): highway_Layer(\n",
      "      (linear): Linear(in_features=3, out_features=3, bias=True)\n",
      "      (linear_activ): ReLU()\n",
      "      (gate): Linear(in_features=3, out_features=3, bias=True)\n",
      "      (gate_activ): Sigmoid()\n",
      "    )\n",
      "    (1): highway_Layer(\n",
      "      (linear): Linear(in_features=3, out_features=3, bias=True)\n",
      "      (linear_activ): ReLU()\n",
      "      (gate): Linear(in_features=3, out_features=3, bias=True)\n",
      "      (gate_activ): Sigmoid()\n",
      "    )\n",
      "    (2): highway_Layer(\n",
      "      (linear): Linear(in_features=3, out_features=3, bias=True)\n",
      "      (linear_activ): ReLU()\n",
      "      (gate): Linear(in_features=3, out_features=3, bias=True)\n",
      "      (gate_activ): Sigmoid()\n",
      "    )\n",
      "  )\n",
      "  (linear_out): Linear(in_features=3, out_features=5, bias=True)\n",
      ")\n"
     ]
    }
   ],
   "source": [
    "model3 = highway_Network(5,3,5,3,torch.nn.ReLU(),torch.nn.Sigmoid())\n",
    "print(model3)"
   ]
  }
 ],
 "metadata": {
  "kernelspec": {
   "display_name": "Python 3",
   "language": "python",
   "name": "python3"
  },
  "language_info": {
   "codemirror_mode": {
    "name": "ipython",
    "version": 3
   },
   "file_extension": ".py",
   "mimetype": "text/x-python",
   "name": "python",
   "nbconvert_exporter": "python",
   "pygments_lexer": "ipython3",
   "version": "3.7.4"
  }
 },
 "nbformat": 4,
 "nbformat_minor": 2
}
