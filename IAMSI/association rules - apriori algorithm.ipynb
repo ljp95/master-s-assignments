{
 "cells": [
  {
   "cell_type": "markdown",
   "metadata": {},
   "source": [
    "IAMSI -- 2018-2019\n",
    "--------\n",
    "*&copy; Equipe pédagogique : Gauvain Bourgne, Jean-Gabriel Ganascia, Colette Faucher, Marie-Jeanne Lesot, Christophe Marsala.*\n",
    "\n",
    "# TME 09 : Règles d'association"
   ]
  },
  {
   "cell_type": "markdown",
   "metadata": {},
   "source": [
    "<font color=\"RED\" size=\"+1\">**[Q]**</font> **Indiquer dans la boîte ci-dessous vos noms et prénoms **"
   ]
  },
  {
   "cell_type": "markdown",
   "metadata": {},
   "source": [
    "Lam Jean-Paul, Souksava Elodie"
   ]
  },
  {
   "cell_type": "markdown",
   "metadata": {},
   "source": [
    "<font color=\"RED\" size=\"+1\">**[Q]**</font> **Renommer ce noebook**\n",
    "\n",
    "Tout en haut de cette page, cliquer sur <tt>TME-09</tt> et rajouter à la suite de <tt>TME-09</tt> les noms des membres du binômes séparés par un tiret.\n",
    "\n",
    "Par exemple, pour le binôme Luke Skywalker et Han Solo, le nom de fichier devient : <pre>TME-09-Skywalker-Solo</pre>\n",
    "\n",
    "Penser à sauvegarder fréquemment le fichier en cours de travail :\n",
    "- soit en cliquant sur l'icône \"disquette\"\n",
    "- soit par la combinaison de touches [Ctrl]-S"
   ]
  },
  {
   "cell_type": "markdown",
   "metadata": {},
   "source": [
    "## Présentation"
   ]
  },
  {
   "cell_type": "markdown",
   "metadata": {},
   "source": [
    "### But de ce TME\n",
    "\n",
    "Ce TME a pour but de réaliser une implémentation *intuitive* de l'algorithme **apriori** afin de la comparer à une version efficace de cet algorithme, puis à une implémentation de l'algorithme **fp-growth**.\n"
   ]
  },
  {
   "cell_type": "markdown",
   "metadata": {},
   "source": [
    "#### Contenu de l'archive téléchargée\n",
    "\n",
    "Une fois détarée, l'archive **tme-09.tgz** crée le répertoire <code>tme09</code> contenant :\n",
    "- deux fichiers exécutables (Linux): <code>apriori32</code> et <code>fpgrowth32</code> (ces 2 programmes ont été développés par Christian Borgelt, plus d'infos sur sa page web  http://www.borgelt.net/software.html). Ces programmes seront utilisés en fin de séance.\n",
    "- un répertoire <code>dataset</code> contenant des bases d'exemples pour tester les algorithmes\n",
    "- ce notebook que vous lisez en ce moment et que vous allez compléter.\n",
    "\n"
   ]
  },
  {
   "cell_type": "markdown",
   "metadata": {},
   "source": [
    "#### Compte-rendu de la séance\n",
    "\n",
    "Le compte-rendu de ce TME se compose de ce notebook complété par les réponses aux questions posées.\n",
    "\n",
    "Ce compte-rendu est à poster : \n",
    "- à l'issue de la séance, un premier envoi doit être **obligatoirement** fait avec ce que vous avez réalisé\n",
    "- si nécessaire, un complément peut être envoyé **au plus tard avant le début de la prochaine séance**.\n"
   ]
  },
  {
   "cell_type": "markdown",
   "metadata": {},
   "source": [
    "<font color=\"RED\">IMPORTANT: soumission de votre fichier final</font>\n",
    "\n",
    "**Nom à donner au fichier à poster** : *Nom1_Nom2.ipynb* \n",
    "- *Nom1* et *Nom2* : noms des membres du binôme\n",
    "- ne pas compresser ou faire une archive: envoyer le notebook tel quel, éventuellement, si vous avez d'autres fichiers à envoyer, les  joindre au message."
   ]
  },
  {
   "cell_type": "code",
   "execution_count": 1,
   "metadata": {},
   "outputs": [
    {
     "data": {
      "text/plain": [
       "['C:\\\\Users\\\\Jp',\n",
       " 'C:\\\\Users\\\\Jp\\\\AppData\\\\Local\\\\Continuum\\\\anaconda3\\\\python37.zip',\n",
       " 'C:\\\\Users\\\\Jp\\\\AppData\\\\Local\\\\Continuum\\\\anaconda3\\\\DLLs',\n",
       " 'C:\\\\Users\\\\Jp\\\\AppData\\\\Local\\\\Continuum\\\\anaconda3\\\\lib',\n",
       " 'C:\\\\Users\\\\Jp\\\\AppData\\\\Local\\\\Continuum\\\\anaconda3',\n",
       " '',\n",
       " 'C:\\\\Users\\\\Jp\\\\AppData\\\\Local\\\\Continuum\\\\anaconda3\\\\lib\\\\site-packages',\n",
       " 'C:\\\\Users\\\\Jp\\\\AppData\\\\Local\\\\Continuum\\\\anaconda3\\\\lib\\\\site-packages\\\\win32',\n",
       " 'C:\\\\Users\\\\Jp\\\\AppData\\\\Local\\\\Continuum\\\\anaconda3\\\\lib\\\\site-packages\\\\win32\\\\lib',\n",
       " 'C:\\\\Users\\\\Jp\\\\AppData\\\\Local\\\\Continuum\\\\anaconda3\\\\lib\\\\site-packages\\\\Pythonwin',\n",
       " 'C:\\\\Users\\\\Jp\\\\AppData\\\\Local\\\\Continuum\\\\anaconda3\\\\lib\\\\site-packages\\\\IPython\\\\extensions',\n",
       " 'C:\\\\Users\\\\Jp\\\\.ipython']"
      ]
     },
     "execution_count": 1,
     "metadata": {},
     "output_type": "execute_result"
    }
   ],
   "source": [
    "# Vérification de la version de Python utilisée:\n",
    "import sys\n",
    "sys.path # le path doit contenir python3.5"
   ]
  },
  {
   "cell_type": "markdown",
   "metadata": {},
   "source": [
    "## Traitement d'une base d'apprentissage\n",
    "\n",
    "### Chargement de la base\n",
    "\n",
    "On commence par travailler sur la base exemple du fichier <code>exemple-1.txt</code> (fourni dans le répertoire datasets). \n",
    "\n",
    "Ce fichier contient une transaction par ligne. Chaque transaction est composée d'un groupe d'items séparés par un espace.\n",
    "\n",
    "On peut charger en Python ce fichier par la commande suivante (le répertoire datasets doit se trouver dans le répertoire courant) :"
   ]
  },
  {
   "cell_type": "code",
   "execution_count": 2,
   "metadata": {
    "scrolled": true
   },
   "outputs": [
    {
     "ename": "FileNotFoundError",
     "evalue": "[Errno 2] No such file or directory: 'datasets/exemple-1.txt'",
     "output_type": "error",
     "traceback": [
      "\u001b[1;31m---------------------------------------------------------------------------\u001b[0m",
      "\u001b[1;31mFileNotFoundError\u001b[0m                         Traceback (most recent call last)",
      "\u001b[1;32m<ipython-input-2-3705b9b56210>\u001b[0m in \u001b[0;36m<module>\u001b[1;34m\u001b[0m\n\u001b[0;32m      1\u001b[0m \u001b[1;32mimport\u001b[0m \u001b[0mcsv\u001b[0m\u001b[1;33m\u001b[0m\u001b[1;33m\u001b[0m\u001b[0m\n\u001b[1;32m----> 2\u001b[1;33m \u001b[1;32mwith\u001b[0m \u001b[0mopen\u001b[0m\u001b[1;33m(\u001b[0m\u001b[1;34m'datasets/exemple-1.txt'\u001b[0m\u001b[1;33m,\u001b[0m \u001b[1;34m'r'\u001b[0m\u001b[1;33m)\u001b[0m \u001b[1;32mas\u001b[0m \u001b[0mfichier\u001b[0m\u001b[1;33m:\u001b[0m\u001b[1;33m\u001b[0m\u001b[1;33m\u001b[0m\u001b[0m\n\u001b[0m\u001b[0;32m      3\u001b[0m     \u001b[0mlecteur\u001b[0m \u001b[1;33m=\u001b[0m \u001b[0mcsv\u001b[0m\u001b[1;33m.\u001b[0m\u001b[0mreader\u001b[0m\u001b[1;33m(\u001b[0m\u001b[0mfichier\u001b[0m\u001b[1;33m,\u001b[0m \u001b[0mdelimiter\u001b[0m\u001b[1;33m=\u001b[0m\u001b[1;34m' '\u001b[0m\u001b[1;33m)\u001b[0m\u001b[1;33m\u001b[0m\u001b[1;33m\u001b[0m\u001b[0m\n\u001b[0;32m      4\u001b[0m     \u001b[0mi\u001b[0m \u001b[1;33m=\u001b[0m \u001b[1;36m0\u001b[0m\u001b[1;33m\u001b[0m\u001b[1;33m\u001b[0m\u001b[0m\n\u001b[0;32m      5\u001b[0m     \u001b[1;32mfor\u001b[0m \u001b[0mligne\u001b[0m \u001b[1;32min\u001b[0m \u001b[0mlecteur\u001b[0m\u001b[1;33m:\u001b[0m\u001b[1;33m\u001b[0m\u001b[1;33m\u001b[0m\u001b[0m\n",
      "\u001b[1;31mFileNotFoundError\u001b[0m: [Errno 2] No such file or directory: 'datasets/exemple-1.txt'"
     ]
    }
   ],
   "source": [
    "import csv\n",
    "with open('datasets/exemple-1.txt', 'r') as fichier:\n",
    "    lecteur = csv.reader(fichier, delimiter=' ')\n",
    "    i = 0\n",
    "    for ligne in lecteur:\n",
    "        i += 1\n",
    "        print('ligne',i,':',ligne)"
   ]
  },
  {
   "cell_type": "markdown",
   "metadata": {},
   "source": [
    "<font color=\"RED\" size=\"+1\">**[Q]**</font>  Ecrire la fonction <code>chargeBase</code> qui prend en argument un nom de fichier, respectant le format énoncé plus haut, le lit et rend un dictionnaire dont les clés sont les numéros de ligne (une transaction) et les valeurs associées les itemsets correspondants représentés sous forme d'ensembles Python (des <code>set()</code> donc).\n",
    "\n",
    "Ici, il est plus intéressant de représenter un itemset comme un ensemble Python plutôt que comme une liste. Il est ainsi plus facile de réaliser des comparaisons d'ensembles ou des ajouts d'éléments.\n",
    "\n",
    "Dans le reste de ce document, on appelle **BASE** un dictionnaire de ce type."
   ]
  },
  {
   "cell_type": "code",
   "execution_count": 58,
   "metadata": {},
   "outputs": [],
   "source": [
    "def chargeBase(fichier,delimiter=' '):\n",
    "    d = {}\n",
    "    with open(fichier, 'r') as f:\n",
    "        lecteur = csv.reader(f, delimiter=delimiter)\n",
    "        i = 0\n",
    "        for ligne in lecteur:\n",
    "            i += 1\n",
    "            d[i] = set(ligne)\n",
    "        #print(d)\n",
    "    return d"
   ]
  },
  {
   "cell_type": "code",
   "execution_count": 59,
   "metadata": {},
   "outputs": [
    {
     "name": "stdout",
     "output_type": "stream",
     "text": [
      "Résultat du chargement de 'exemple-1.txt', on obtient : \n",
      "{1: {'c', 'b', 'a'}, 2: {'e', 'd', 'a'}, 3: {'c', 'b', 'd'}, 4: {'c', 'b', 'd', 'a'}, 5: {'c', 'b'}, 6: {'b', 'd', 'a'}, 7: {'e', 'd'}, 8: {'c', 'b', 'd', 'a'}, 9: {'e', 'c', 'd'}, 10: {'c', 'b', 'a'}}\n"
     ]
    }
   ],
   "source": [
    "print(\"Résultat du chargement de 'exemple-1.txt', on obtient : \")\n",
    "Base1 = chargeBase('datasets/exemple-1.txt',delimiter=' ')\n",
    "print(Base1)"
   ]
  },
  {
   "cell_type": "markdown",
   "metadata": {},
   "source": [
    "On utilise la variable **Base1** dans la suite pour faire référence à cette base."
   ]
  },
  {
   "cell_type": "markdown",
   "metadata": {},
   "source": [
    "## Itemsets et support"
   ]
  },
  {
   "cell_type": "markdown",
   "metadata": {},
   "source": [
    "<font color=\"RED\" size=\"+1\">**[Q]**</font>  Ecrire la fonction <code>noms_items</code> qui prend en argument une BASE et rend l'ensemble des items qui composent cette base."
   ]
  },
  {
   "cell_type": "code",
   "execution_count": 6,
   "metadata": {},
   "outputs": [],
   "source": [
    "def noms_items(base):\n",
    "    item=base[1]\n",
    "    for i in range(2,len(base)+1) : \n",
    "        item=item.union(base[i])\n",
    "   # print(item)\n",
    "    return item"
   ]
  },
  {
   "cell_type": "code",
   "execution_count": 7,
   "metadata": {},
   "outputs": [
    {
     "name": "stdout",
     "output_type": "stream",
     "text": [
      "Pour la BASE précédente :\n"
     ]
    },
    {
     "data": {
      "text/plain": [
       "{'a', 'b', 'c', 'd', 'e'}"
      ]
     },
     "execution_count": 7,
     "metadata": {},
     "output_type": "execute_result"
    }
   ],
   "source": [
    "print(\"Pour la BASE précédente :\")\n",
    "noms_items(Base1)\n"
   ]
  },
  {
   "cell_type": "markdown",
   "metadata": {},
   "source": [
    "<font color=\"RED\" size=\"+1\">**[Q]**</font>  Ecrire la fonction <code>singletons</code> qui prend en argument une BASE et rend la liste des itemsets de taille 1 obtenus à partir de cette base.\n",
    "\n",
    "*Remarque*: attention, ici on utilise une **liste** pour stocker les itemsets (un itemset est un ensemble Python) car il n'est pas possible en Python de créer des ensembles d'ensembles.\n"
   ]
  },
  {
   "cell_type": "code",
   "execution_count": 8,
   "metadata": {},
   "outputs": [],
   "source": [
    "def singletons(base):\n",
    "    item=noms_items(base)\n",
    "    s=[]\n",
    "    for i in item:\n",
    "        s.append({i})\n",
    "    return s"
   ]
  },
  {
   "cell_type": "code",
   "execution_count": 9,
   "metadata": {},
   "outputs": [
    {
     "name": "stdout",
     "output_type": "stream",
     "text": [
      "Exemple: singletons(Base1) rend :\n"
     ]
    },
    {
     "data": {
      "text/plain": [
       "[{'d'}, {'e'}, {'a'}, {'b'}, {'c'}]"
      ]
     },
     "execution_count": 9,
     "metadata": {},
     "output_type": "execute_result"
    }
   ],
   "source": [
    "print(\"Exemple: singletons(Base1) rend :\")\n",
    "singletons(Base1)"
   ]
  },
  {
   "cell_type": "markdown",
   "metadata": {},
   "source": [
    "<font color=\"RED\" size=\"+1\">**[Q]**</font>  Ecrire la fonction <code>comptage</code> qui, pour une BASE et un itemset donnés, rend le nombre de transactions de BASE qui contiennent cet itemset."
   ]
  },
  {
   "cell_type": "code",
   "execution_count": 10,
   "metadata": {},
   "outputs": [],
   "source": [
    "def comptage(base,itemset):\n",
    "    cpt=0\n",
    "    for i in base:\n",
    "        cpt+=itemset<=base[i]\n",
    "    return cpt"
   ]
  },
  {
   "cell_type": "code",
   "execution_count": 11,
   "metadata": {},
   "outputs": [
    {
     "name": "stdout",
     "output_type": "stream",
     "text": [
      "Comptage de l'itemset {'a','b','c'} dans la base précédente : \n",
      "comptage(Base1,{'a','b','c'}) rend la valeur 4\n"
     ]
    }
   ],
   "source": [
    "print(\"Comptage de l'itemset {'a','b','c'} dans la base précédente : \")\n",
    "print(\"comptage(Base1,{'a','b','c'}) rend la valeur \"+str(comptage(Base1,{'a','b','c'})))"
   ]
  },
  {
   "cell_type": "markdown",
   "metadata": {},
   "source": [
    "<font color=\"RED\" size=\"+1\">**[Q]**</font>  Ecrire la fonction <code>support</code> qui, pour une BASE et un itemset donnés, rend le support de cet itemset dans la BASE."
   ]
  },
  {
   "cell_type": "code",
   "execution_count": 12,
   "metadata": {},
   "outputs": [],
   "source": [
    "def support(base,itemset):\n",
    "    return comptage(base,itemset)/len(base)"
   ]
  },
  {
   "cell_type": "code",
   "execution_count": 13,
   "metadata": {},
   "outputs": [
    {
     "name": "stdout",
     "output_type": "stream",
     "text": [
      "Support de l'itemset {'a','b','c'} dans la base précédente : 0.4\n"
     ]
    }
   ],
   "source": [
    "print(\"Support de l'itemset {'a','b','c'} dans la base précédente : \" \\\n",
    "      +str(support(Base1,{'a','b','c'})))"
   ]
  },
  {
   "cell_type": "markdown",
   "metadata": {},
   "source": [
    "## Implémentation de l'algorithme a-priori\n",
    "\n",
    "Dans cette partie, une implémentation de la partie de construction des itemsets fréquents de l'algorithme a-priori est réalisée. On ne s'intéresse pas dans cette question à la génération des règles d'association (mais cela peut être fait en complément).\n",
    "\n",
    "Votre programme doit pouvoir s'appliquer aux bases fournies dans le répertoire *datasets* (éventuellement, sur au moins les 10 premiers exemples de la base mushrooms)."
   ]
  },
  {
   "cell_type": "markdown",
   "metadata": {},
   "source": [
    "<font color=\"RED\" size=\"+1\">**[Q]**</font>  Ecrire la fonction <code>apriori_gen</code> qui prend en argument une liste d'itemsets de même longueur $k$, applique l'algorithme apriori-gen pour rendre la liste des itemsets candidats de longueurs $k+1$.\n"
   ]
  },
  {
   "cell_type": "code",
   "execution_count": 75,
   "metadata": {},
   "outputs": [],
   "source": [
    "import copy\n",
    "def apriori_gen(F):\n",
    "    if len(F)==0:\n",
    "        return []\n",
    "    k = len(F[0])\n",
    "    c={}\n",
    "    C=[]\n",
    "    for i in range(len(F)-1):\n",
    "        for j in range(i+1,len(F)):\n",
    "            c=F[i].union(F[j])\n",
    "            if(len(c)==k+1 and c not in C):\n",
    "                C.append(c)\n",
    "    liste_enleve = []\n",
    "    for c in C:\n",
    "        for i in c:\n",
    "            c2 = copy.deepcopy(c)\n",
    "            c2.remove(i)\n",
    "            if c2 not in F and c not in liste_enleve:\n",
    "                liste_enleve.append(c)\n",
    "    for c in liste_enleve:\n",
    "        C.remove(c)\n",
    "    return C"
   ]
  },
  {
   "cell_type": "code",
   "execution_count": 15,
   "metadata": {},
   "outputs": [
    {
     "name": "stdout",
     "output_type": "stream",
     "text": [
      "Exemple: apriori_gen([{'a'}, {'b'}, {'c'}, {'d'}]) rend \n",
      "[{'b', 'a'}, {'c', 'a'}, {'d', 'a'}, {'c', 'b'}, {'b', 'd'}, {'c', 'd'}]\n",
      "\n",
      "Exemple: apriori_gen([{'a','b'},{'a','d'},{'b','d'},{'b','c'},{'c','d'}]) rend \n",
      "[{'b', 'd', 'a'}, {'c', 'b', 'd'}]\n"
     ]
    }
   ],
   "source": [
    "print(\"Exemple: apriori_gen([{'a'}, {'b'}, {'c'}, {'d'}]) rend \")\n",
    "print(apriori_gen([{'a'}, {'b'}, {'c'}, {'d'}]))\n",
    "\n",
    "print(\"\\nExemple: apriori_gen([{'a','b'},{'a','d'},{'b','d'},{'b','c'},{'c','d'}]) rend \")\n",
    "print(apriori_gen([{'a', 'b'}, {'a', 'd'}, {'b', 'd'}, {'b', 'c'}, {'c', 'd'}]))"
   ]
  },
  {
   "cell_type": "code",
   "execution_count": 16,
   "metadata": {},
   "outputs": [
    {
     "name": "stdout",
     "output_type": "stream",
     "text": [
      "Exemple: apriori_gen([{'a'}, {'b'}, {'c'}, {'d'}]) rend \n",
      "[{'b', 'a'}, {'c', 'a'}, {'d', 'a'}, {'c', 'b'}, {'b', 'd'}, {'c', 'd'}]\n",
      "\n",
      "Exemple: apriori_gen([{'a','b'},{'a','d'},{'b','d'},{'b','c'},{'c','d'}]) rend \n",
      "[{'b', 'd', 'a'}, {'c', 'b', 'd'}]\n"
     ]
    }
   ],
   "source": [
    "print(\"Exemple: apriori_gen([{'a'}, {'b'}, {'c'}, {'d'}]) rend \")\n",
    "print(apriori_gen([{'a'}, {'b'}, {'c'}, {'d'}]))\n",
    "\n",
    "print(\"\\nExemple: apriori_gen([{'a','b'},{'a','d'},{'b','d'},{'b','c'},{'c','d'}]) rend \")\n",
    "print(apriori_gen([{'a', 'b'}, {'a', 'd'}, {'b', 'd'}, {'b', 'c'}, {'c', 'd'}]))"
   ]
  },
  {
   "cell_type": "markdown",
   "metadata": {},
   "source": [
    "<font color=\"RED\" size=\"+1\">**[Q]**</font>  Ecrire la fonction <code>apriori</code> qui prend en argument une BASE et une valeur réelle comprise entre 0 et 1, et qui rend une liste de tuples dont le premier élément et un itemset trouvé et le deuxième élément est la valeur de support correspondante."
   ]
  },
  {
   "cell_type": "code",
   "execution_count": 76,
   "metadata": {},
   "outputs": [],
   "source": [
    "def apriori(base,p):\n",
    "    Ck=singletons(base)\n",
    "    k=1\n",
    "    F=[]\n",
    "    while(Ck!=[]):\n",
    "        Fk=[]\n",
    "        for c in Ck:\n",
    "            sup=support(base,c)\n",
    "            if (sup>=p):\n",
    "                Fk.append(c)\n",
    "                F.append((c,sup))\n",
    "        k+=1\n",
    "        Ck=apriori_gen(Fk)\n",
    "        \n",
    "    return F"
   ]
  },
  {
   "cell_type": "code",
   "execution_count": 16,
   "metadata": {},
   "outputs": [
    {
     "name": "stdout",
     "output_type": "stream",
     "text": [
      "Exemple: apriori(Base1, 0.3]) rend \n",
      "[({'a'}, 0.6), ({'d'}, 0.7), ({'c'}, 0.7), ({'e'}, 0.3), ({'b'}, 0.7), ({'a', 'd'}, 0.4), ({'a', 'c'}, 0.4), ({'a', 'b'}, 0.5), ({'d', 'c'}, 0.4), ({'d', 'e'}, 0.3), ({'b', 'd'}, 0.4), ({'b', 'c'}, 0.6), ({'a', 'b', 'd'}, 0.3), ({'a', 'b', 'c'}, 0.4), ({'b', 'd', 'c'}, 0.3)]\n"
     ]
    }
   ],
   "source": [
    "#verification\n",
    "print(\"Exemple: apriori(Base1, 0.3]) rend \")\n",
    "print(apriori(Base1,0.3))"
   ]
  },
  {
   "cell_type": "code",
   "execution_count": 20,
   "metadata": {},
   "outputs": [
    {
     "name": "stdout",
     "output_type": "stream",
     "text": [
      "Exemple: apriori(Base1, 0.3]) rend \n",
      "[({'d'}, 0.7), ({'e'}, 0.3), ({'a'}, 0.6), ({'b'}, 0.7), ({'c'}, 0.7), ({'e', 'd'}, 0.3), ({'d', 'a'}, 0.4), ({'b', 'd'}, 0.4), ({'c', 'd'}, 0.4), ({'b', 'a'}, 0.5), ({'c', 'a'}, 0.4), ({'c', 'b'}, 0.6), ({'b', 'd', 'a'}, 0.3), ({'c', 'b', 'd'}, 0.3), ({'c', 'b', 'a'}, 0.4)]\n"
     ]
    }
   ],
   "source": [
    "print(\"Exemple: apriori(Base1, 0.3]) rend \")\n",
    "print(apriori(Base1,0.3))"
   ]
  },
  {
   "cell_type": "markdown",
   "metadata": {},
   "source": [
    "## Expérimentations"
   ]
  },
  {
   "cell_type": "markdown",
   "metadata": {},
   "source": [
    "### Vérification avec la base du TD\n",
    "\n",
    "Utiliser la fonction <code>apriori</code> avec la base de transactions du TD afin de vérifier que les itemsets obtenus sont corrects."
   ]
  },
  {
   "cell_type": "code",
   "execution_count": 23,
   "metadata": {},
   "outputs": [],
   "source": [
    "BaseTD={1:{'a','b','d','e'},2:{'b','c','d'},3:{'a','b','d','e'},4:{'a','c','d','e'},5:{'b','c','d','e'},6:{'b','d','e'},7:{'c','d'},8:{'a','b','c'},9:{'a','d','e'},10:{'b','d'}}"
   ]
  },
  {
   "cell_type": "code",
   "execution_count": 20,
   "metadata": {},
   "outputs": [
    {
     "name": "stdout",
     "output_type": "stream",
     "text": [
      "Exemple: apriori(BaseTD, 0.3) rend \n",
      "[({'a'}, 0.5), ({'d'}, 0.9), ({'e'}, 0.6), ({'c'}, 0.5), ({'b'}, 0.7), ({'a', 'd'}, 0.4), ({'a', 'e'}, 0.4), ({'a', 'b'}, 0.3), ({'d', 'e'}, 0.6), ({'d', 'c'}, 0.4), ({'b', 'd'}, 0.6), ({'b', 'e'}, 0.4), ({'b', 'c'}, 0.3), ({'a', 'd', 'e'}, 0.4), ({'b', 'd', 'e'}, 0.4)]\n"
     ]
    }
   ],
   "source": [
    "#verification\n",
    "print(\"Exemple: apriori(BaseTD, 0.3) rend \")\n",
    "print(apriori(BaseTD,0.3))"
   ]
  },
  {
   "cell_type": "code",
   "execution_count": 46,
   "metadata": {},
   "outputs": [
    {
     "name": "stdout",
     "output_type": "stream",
     "text": [
      "Exemple: apriori(BaseTD, 0.3) rend \n",
      "[({'b'}, 0.7), ({'d'}, 0.9), ({'e'}, 0.6), ({'c'}, 0.5), ({'a'}, 0.5), ({'b', 'd'}, 0.6), ({'e', 'b'}, 0.4), ({'c', 'b'}, 0.3), ({'b', 'a'}, 0.3), ({'e', 'd'}, 0.6), ({'c', 'd'}, 0.4), ({'d', 'a'}, 0.4), ({'e', 'a'}, 0.4), ({'e', 'b', 'd'}, 0.4), ({'e', 'd', 'a'}, 0.4)]\n"
     ]
    }
   ],
   "source": [
    "print(\"Exemple: apriori(BaseTD, 0.3) rend \")\n",
    "print(apriori(BaseTD,0.3))"
   ]
  },
  {
   "cell_type": "markdown",
   "metadata": {},
   "source": [
    "### Comparaisons avec les implémentations apriori32 et fpgrowth"
   ]
  },
  {
   "cell_type": "markdown",
   "metadata": {},
   "source": [
    "<font color=\"RED\" size=\"+1\">**[Q]**</font>  Tester votre fonction <code>apriori</code> sur les 3 bases données dans datasets et confronter les résultats obtenus avec ceux fournis par le programme <code>apriori32</code>."
   ]
  },
  {
   "cell_type": "code",
   "execution_count": 61,
   "metadata": {},
   "outputs": [
    {
     "name": "stdout",
     "output_type": "stream",
     "text": [
      "Résultat du chargement de 'mushrooms.txt', on obtient : \n",
      "8416  transactions.\n"
     ]
    }
   ],
   "source": [
    "print(\"Résultat du chargement de 'mushrooms.txt', on obtient : \")\n",
    "Base_mushrooms = chargeBase('datasets/mushrooms.txt',delimiter=' ')\n",
    "#Base_mushrooms\n",
    "print(len(Base_mushrooms),' transactions.')"
   ]
  },
  {
   "cell_type": "code",
   "execution_count": 51,
   "metadata": {
    "scrolled": false
   },
   "outputs": [
    {
     "name": "stdout",
     "output_type": "stream",
     "text": [
      "Pour la BASE précédente :\n",
      "Exemple: singletons(Base_mushrooms) rend :\n"
     ]
    },
    {
     "data": {
      "text/plain": [
       "[{'PINK'},\n",
       " {'ONE'},\n",
       " {'CLUB'},\n",
       " {'CLOSE'},\n",
       " {'?'},\n",
       " {'SMOOTH'},\n",
       " {'FREE'},\n",
       " {'CONVEX'},\n",
       " {'FLARING'},\n",
       " {'SPICY'},\n",
       " {'URBAN'},\n",
       " {'BUFF'},\n",
       " {'GRASSES'},\n",
       " {'ROOTED'},\n",
       " {'GROOVES'},\n",
       " {'FISHY'},\n",
       " {'FOUL'},\n",
       " {'NARROW'},\n",
       " {'BROWN'},\n",
       " {'BELL'},\n",
       " {'PURPLE'},\n",
       " {'KNOBBED'},\n",
       " {'ENLARGING'},\n",
       " {'RED'},\n",
       " {'EVANESCENT'},\n",
       " {'SOLITARY'},\n",
       " {'PARTIAL'},\n",
       " {'PUNGENT'},\n",
       " {'NUMEROUS'},\n",
       " {'MEADOWS'},\n",
       " {'GREEN'},\n",
       " {'SUNKEN'},\n",
       " {'ORANGE'},\n",
       " {'NO'},\n",
       " {'EQUAL'},\n",
       " {'TWO'},\n",
       " {'BULBOUS'},\n",
       " {'FLAT'},\n",
       " {'CINNAMON'},\n",
       " {'WHITE'},\n",
       " {'LARGE'},\n",
       " {'WASTE'},\n",
       " {'LEAVES'},\n",
       " {'PENDANT'},\n",
       " {'SILKY'},\n",
       " {'PATHS'},\n",
       " {'BROAD'},\n",
       " {'CHOCOLATE'},\n",
       " {'ALMOND'},\n",
       " {'SCALY'},\n",
       " {'MUSTY'},\n",
       " {'ANISE'},\n",
       " {'SEVERAL'},\n",
       " {'FIBROUS'},\n",
       " {'TAPERING'},\n",
       " {'NONE'},\n",
       " {'BRUISES'},\n",
       " {'BLACK'},\n",
       " {'ATTACHED'},\n",
       " {'CROWDED'},\n",
       " {'SCATTERED'},\n",
       " {'GRAY'},\n",
       " {'CREOSOTE'},\n",
       " {'CONICAL'},\n",
       " {'YELLOW'},\n",
       " {'WOODS'},\n",
       " {'CLUSTERED'},\n",
       " {'ABUNDANT'}]"
      ]
     },
     "execution_count": 51,
     "metadata": {},
     "output_type": "execute_result"
    }
   ],
   "source": [
    "print(\"Pour la BASE précédente :\")\n",
    "noms_items(Base_mushrooms)\n",
    "print(\"Exemple: singletons(Base_mushrooms) rend :\")\n",
    "singletons(Base_mushrooms)"
   ]
  },
  {
   "cell_type": "code",
   "execution_count": 23,
   "metadata": {},
   "outputs": [
    {
     "name": "stdout",
     "output_type": "stream",
     "text": [
      "[({'PARTIAL'}, 1.0), ({'WHITE'}, 0.9771863117870723), ({'ONE'}, 0.9230038022813688), ({'FREE'}, 0.9743346007604563), ({'PARTIAL', 'WHITE'}, 0.9771863117870723), ({'PARTIAL', 'ONE'}, 0.9230038022813688), ({'PARTIAL', 'FREE'}, 0.9743346007604563), ({'ONE', 'WHITE'}, 0.9001901140684411), ({'FREE', 'WHITE'}, 0.9743346007604563), ({'FREE', 'ONE'}, 0.9001901140684411), ({'PARTIAL', 'ONE', 'WHITE'}, 0.9001901140684411), ({'PARTIAL', 'FREE', 'WHITE'}, 0.9743346007604563), ({'PARTIAL', 'ONE', 'FREE'}, 0.9001901140684411), ({'FREE', 'ONE', 'WHITE'}, 0.9001901140684411), ({'FREE', 'PARTIAL', 'ONE', 'WHITE'}, 0.9001901140684411)]\n"
     ]
    }
   ],
   "source": [
    "#VERIFICATION\n",
    "print(apriori(Base_mushrooms,0.9))"
   ]
  },
  {
   "cell_type": "code",
   "execution_count": 52,
   "metadata": {},
   "outputs": [
    {
     "name": "stdout",
     "output_type": "stream",
     "text": [
      "[({'ONE'}, 0.9230038022813688), ({'FREE'}, 0.9743346007604563), ({'PARTIAL'}, 1.0), ({'WHITE'}, 0.9771863117870723), ({'ONE', 'FREE'}, 0.9001901140684411), ({'ONE', 'PARTIAL'}, 0.9230038022813688), ({'ONE', 'WHITE'}, 0.9001901140684411), ({'PARTIAL', 'FREE'}, 0.9743346007604563), ({'FREE', 'WHITE'}, 0.9743346007604563), ({'PARTIAL', 'WHITE'}, 0.9771863117870723), ({'ONE', 'PARTIAL', 'FREE'}, 0.9001901140684411), ({'ONE', 'FREE', 'WHITE'}, 0.9001901140684411), ({'ONE', 'PARTIAL', 'WHITE'}, 0.9001901140684411), ({'PARTIAL', 'FREE', 'WHITE'}, 0.9743346007604563), ({'PARTIAL', 'FREE', 'ONE', 'WHITE'}, 0.9001901140684411)]\n"
     ]
    }
   ],
   "source": [
    "print(apriori(Base_mushrooms,0.9))"
   ]
  },
  {
   "cell_type": "code",
   "execution_count": 64,
   "metadata": {},
   "outputs": [
    {
     "name": "stdout",
     "output_type": "stream",
     "text": [
      "Résultat du chargement de 'titatnic-red.txt', on obtient : \n",
      "741  transactions.\n"
     ]
    }
   ],
   "source": [
    "print(\"Résultat du chargement de 'titatnic-red.txt', on obtient : \")\n",
    "Base_titanic = chargeBase('datasets/titanic-red.txt',delimiter=' ')\n",
    "print(len(Base_titanic),' transactions.')"
   ]
  },
  {
   "cell_type": "code",
   "execution_count": 65,
   "metadata": {},
   "outputs": [
    {
     "name": "stdout",
     "output_type": "stream",
     "text": [
      "Pour la BASE Titanic :\n",
      "Exemple: singletons(Base_titanic) rend :\n"
     ]
    },
    {
     "data": {
      "text/plain": [
       "[{'BergenNorway'},\n",
       " {'BroomfieldChelmsfordEngland'},\n",
       " {'PetworthSussex'},\n",
       " {'Portugal'},\n",
       " {'BirkdaleEnglandClevelandOhio'},\n",
       " {'SaultStMarieON'},\n",
       " {'DeerLodgeMT'},\n",
       " {'MoscowBronxNY'},\n",
       " {'BelfastNI'},\n",
       " {'ElkinsParkPA'},\n",
       " {'WestHavenCT'},\n",
       " {'ProvoUT'},\n",
       " {'SwedenAkeleyMN'},\n",
       " {'EnglandAlbionNY'},\n",
       " {'MinneapolisMN'},\n",
       " {'LondonEastOrangeNJ'},\n",
       " {'GoteborgSwedenRockfordIL'},\n",
       " {'NiceFrance'},\n",
       " {'WestHobokenNJ'},\n",
       " {'BrynMawrPA'},\n",
       " {'OsloNorwayCameronWI'},\n",
       " {'KontiolahtiFinlandDetroitMI'},\n",
       " {'ChicagoIL'},\n",
       " {'BristolAvonJacksonvilleFL'},\n",
       " {'CornwallAkronOH'},\n",
       " {'SydneyAustralia'},\n",
       " {'England'},\n",
       " {'StroodKentEnglandDetroitMI'},\n",
       " {'SkaraSwedenRockfordIL'},\n",
       " {'BuenosAiresArgentinaNewJerseyNJ'},\n",
       " {'SurbitonHillSurrey'},\n",
       " {'AustriaHungary'},\n",
       " {'SwedenWinnipegMN'},\n",
       " {'KarbergSwedenJeromeJunctionAZ'},\n",
       " {'HarrisburgPA'},\n",
       " {'Argentina'},\n",
       " {'KrakorydSwedenBloomingtonIL'},\n",
       " {'SyriaYoungstownOH'},\n",
       " {'RotherfieldSussexEnglandEssexCoMA'},\n",
       " {'LondonBrooklynNY'},\n",
       " {'DevonEnglandWichitaKS'},\n",
       " {'SeattleWAToledoOH'},\n",
       " {'AsarumSwedenBrooklynNY'},\n",
       " {'BrynMawrPAUSA'},\n",
       " {'ClevedonEngland'},\n",
       " {'WestonSuperMareSomerset'},\n",
       " {'StJamesLongIslandNY'},\n",
       " {'DowagiacMI'},\n",
       " {'LuccaItalyCalifornia'},\n",
       " {'GallipolisOhioParisNewYork'},\n",
       " {'IrelandNewYorkNY'},\n",
       " {'SaloFinlandAstoriaOR'},\n",
       " {'SouthseaHants'},\n",
       " {'CoClareIrelandWashingtonDC'},\n",
       " {'BridgeruleDevon'},\n",
       " {'SittingbourneEnglandSanDiegoCA'},\n",
       " {'HalesworthEngland'},\n",
       " {'NorwichNewYorkNY'},\n",
       " {'HalifaxNS'},\n",
       " {'PenzanceCornwallAkronOH'},\n",
       " {'1st'},\n",
       " {'Ireland'},\n",
       " {'LondonParis'},\n",
       " {'BulgariaChicagoIL'},\n",
       " {'StIvesCornwallHoughtonMI'},\n",
       " {'BrooklineMA'},\n",
       " {'RussiaNewYorkNY'},\n",
       " {'LondonVancouverBC'},\n",
       " {'CornwallSpokaneWA'},\n",
       " {'WindsorEnglandNewYorkNY'},\n",
       " {'OsloNorwayBayonneNJ'},\n",
       " {'LimaPeru'},\n",
       " {'ProvidenceRI'},\n",
       " {'BridgwaterSomersetEngland'},\n",
       " {'Croatia'},\n",
       " {'BrennesNorwayNewYork'},\n",
       " {'IndiaRapidCitySD'},\n",
       " {'EnglandSaltLakeCityUtah'},\n",
       " {'HornseyEngland'},\n",
       " {'CoCorkIrelandCharlestownMA'},\n",
       " {'WestonSuperMareMooseJawSK'},\n",
       " {'ManchesterEngland'},\n",
       " {'BallydehobCoCorkIrelandNewYorkNY'},\n",
       " {'BarcelonaSpainHavanaCuba'},\n",
       " {'CoSligoIrelandHartfordCT'},\n",
       " {'UpperBurmaIndiaPittsburghPA'},\n",
       " {'GreensburgPA'},\n",
       " {'SwedenJolietIL'},\n",
       " {'CambridgeMA'},\n",
       " {'2nd'},\n",
       " {'StLouisMO'},\n",
       " {'NewYorkNYGreenwichCT'},\n",
       " {'ZurichSwitzerland'},\n",
       " {'BrightonMA'},\n",
       " {'HartfordCT'},\n",
       " {'ParisHaiti'},\n",
       " {'MontevideoUruguay'},\n",
       " {'AuburnNY'},\n",
       " {'LondonEnglandMariettaOhioandMilwaukeeWI'},\n",
       " {'TreherbertCardiffWales'},\n",
       " {'LosAngelesCA'},\n",
       " {'VancouverBC'},\n",
       " {'SyriaNewYorkNY'},\n",
       " {'Glasgow'},\n",
       " {'LondonNewYorkNY'},\n",
       " {'LondonFortByronNY'},\n",
       " {'GunnislakeEnglandButteMT'},\n",
       " {'GuernseyWilmingtonDE'},\n",
       " {'NewYorkNYIthacaNY'},\n",
       " {'LondonEngland'},\n",
       " {'OskarshamnSwedenMinneapolisMN'},\n",
       " {'PlymouthDevonDetroitMI'},\n",
       " {'VadsbroSwedenMinisteeMI'},\n",
       " {'ParisFranceNewYorkNY'},\n",
       " {'3rd'},\n",
       " {'StDenysSouthamptonHants'},\n",
       " {'CoCorkIrelandRoxburyMA'},\n",
       " {'LondonSkantealesNY'},\n",
       " {'CornwallEnglandHoughtonMI'},\n",
       " {'MontrealPQChestervilleON'},\n",
       " {'EastProvidenceRI'},\n",
       " {'GreenBayWI'},\n",
       " {'AberdeenPortlandOR'},\n",
       " {'CologneGermany'},\n",
       " {'BrightonSussex'},\n",
       " {'HaddenfieldNJ'},\n",
       " {'LondonStatenIslandNY'},\n",
       " {'SwindonEngland'},\n",
       " {'BelgiumDetroitMI'},\n",
       " {'MerrillWI'},\n",
       " {'YoungstownOH'},\n",
       " {'IndianapolisIN'},\n",
       " {'FrankfortKY'},\n",
       " {'LexingtonMA'},\n",
       " {'LowerClaptonMiddlesexorErdingtonBirmingham'},\n",
       " {'BangkokThailandRosevilleIL'},\n",
       " {'NewarkNJ'},\n",
       " {'LyndhurstEngland'},\n",
       " {\"StAnne'sonSeaLancashire\"},\n",
       " {'SouthamptonNewYorkNY'},\n",
       " {'MedeltorpSwedenChicagoIL'},\n",
       " {'CoSligoIrelandNewYorkNY'},\n",
       " {'ParisMontrealPQ'},\n",
       " {'LondonChicagoIL'},\n",
       " {'DuluthMN'},\n",
       " {'ElizabethNJ'},\n",
       " {'IllinoisUSA'},\n",
       " {'KingstonSurrey'},\n",
       " {'IsleofWightEngland'},\n",
       " {'CoAthloneIrelandNewYorkNY'},\n",
       " {'SwedenWorcesterMA'},\n",
       " {'CornwallCamdenNJ'},\n",
       " {'MamaroneckNY'},\n",
       " {'BromsgroveEnglandMontrealPQ'},\n",
       " {'ChelseaLondon'},\n",
       " {'MilfordNH'},\n",
       " {'EnglandDetroitMI'},\n",
       " {'BristolEnglandNewBritainCT'},\n",
       " {'NewBritainCT'},\n",
       " {'UnionHillNJ'},\n",
       " {'LondonMontrealPQ'},\n",
       " {'IndiaPittsburghPA'},\n",
       " {'BenningtonVT'},\n",
       " {'Greece'},\n",
       " {'CatfordKentDetroitMI'},\n",
       " {'BaysideQueensNY'},\n",
       " {'Austria'},\n",
       " {'HolleyNY'},\n",
       " {'AustriaNiagaraFallsNY'},\n",
       " {'StoughtonMA'},\n",
       " {'Belfast'},\n",
       " {'GlenRidgeNJ'},\n",
       " {'PlymouthEngland'},\n",
       " {'GuernseyElizabethNJ'},\n",
       " {'HessleYorks'},\n",
       " {'ColumbusOH'},\n",
       " {'embarked'},\n",
       " {'MontrealPQ'},\n",
       " {'DenmarkNewYorkNY'},\n",
       " {'ParisNewYorkNY'},\n",
       " {'CornwallHancockMI'},\n",
       " {'Southampton'},\n",
       " {'AustraliaFingalND'},\n",
       " {'SeattleWA'},\n",
       " {'HamiltonON'},\n",
       " {'HaverfordPA'},\n",
       " {'DorchesterMA'},\n",
       " {'MexicoCityMexico'},\n",
       " {'WalthamstowEngland'},\n",
       " {'FinlandSudburyON'},\n",
       " {'ElmiraNYOrangeNJ'},\n",
       " {'SpainHavanaCuba'},\n",
       " {'DeephavenMNCedarRapidsIA'},\n",
       " {'BrooklynNY'},\n",
       " {'LakewoodNJ'},\n",
       " {'IrelandPhiladelphiaPA'},\n",
       " {'DenverCO'},\n",
       " {'SwedenChicagoIL'},\n",
       " {'StockholmSwedenNewYork'},\n",
       " {'NewYorkNYStamfordCT'},\n",
       " {'OmahaNE'},\n",
       " {'BarreCoWashingtonVT'},\n",
       " {'HelsinkiFinlandAshtabulaOhio'},\n",
       " {'WorcesterMA'},\n",
       " {'CornwallHoughtonMI'},\n",
       " {'StockholmSwedenWashingtonDC'},\n",
       " {'MtAiryPhiladelphiaPA'},\n",
       " {'LiverpoolMontrealPQ'},\n",
       " {'BournmouthEngland'},\n",
       " {'WinnipegMB'},\n",
       " {'KingwilliamstownCoCorkIrelandNewYorkNY'},\n",
       " {'EnglandBrooklynNY'},\n",
       " {'WestcliffonSeaEssex'},\n",
       " {'StIvesCornwallHancockMI'},\n",
       " {'HudsonNY'},\n",
       " {'FinlandMinneapolisMN'},\n",
       " {'pclass'},\n",
       " {'SanFranciscoCA'},\n",
       " {'CornwallClearCreekCO'},\n",
       " {'GreenportNY'},\n",
       " {'WaukeganChicagoIL'},\n",
       " {'RotterdamNetherlands'},\n",
       " {'PortlandOR'},\n",
       " {'London'},\n",
       " {'AughnacliffCoLongfordIrelandNewYorkNY'},\n",
       " {'LittleOnnHallStaffs'},\n",
       " {'RochesterNY'},\n",
       " {'HongKongNewYorkNY'},\n",
       " {'SwedenArlingtonNJ'},\n",
       " {'StAndrewsGuernsey'},\n",
       " {'HarrowEngland'},\n",
       " {'DenmarkHillSurreyChicago'},\n",
       " {'TranvikFinlandNewYork'},\n",
       " {'Russia'},\n",
       " {'BronxNY'},\n",
       " {'BristolEnglandClevelandOH'},\n",
       " {'SouthingtonNoankCT'},\n",
       " {'IrelandChicagoIL'},\n",
       " {'BostonMA'},\n",
       " {'AntwerpBelgiumStantonOH'},\n",
       " {'BelgiumMontrealPQ'},\n",
       " {'EastBridgewaterMA'},\n",
       " {'Queenstown'},\n",
       " {'SyriaFredericksburgVA'},\n",
       " {'WarwickEngland'},\n",
       " {'EnglandSanFranciscoCA'},\n",
       " {'TaalintehdasFinlandHobokenNJ'},\n",
       " {'AscotBerkshireRochesterNY'},\n",
       " {'PhiladelphiaPA'},\n",
       " {'WestBromwichEnglandPontiacMI'},\n",
       " {'CoLongfordIrelandNewYorkNY'},\n",
       " {'DetroitMI'},\n",
       " {'RuotsinphyhtaaFinlandNewYorkNY'},\n",
       " {'PondersendEnglandNewDurhamNJ'},\n",
       " {'JanjgirIndiaPennsylvania'},\n",
       " {'GuernseyMontclairNJand/orToledoOhio'},\n",
       " {'PomeroyWA'},\n",
       " {'BrocktonMA'},\n",
       " {'WinnipegMN'},\n",
       " {'GoteborgSwedenHuntleyIL'},\n",
       " {'LondonEnglandNorfolkVA'},\n",
       " {'GermantownPhiladelphiaPA'},\n",
       " {'BerneSwitzerlandCentralCityIA'},\n",
       " {'NewForestEngland'},\n",
       " {'TampicoMT'},\n",
       " {'EffingtonRutSD'},\n",
       " {'StAustallCornwall'},\n",
       " {'WestHampsteadLondonNeepawaMB'},\n",
       " {'Spain'},\n",
       " {'HartfordHuntingdonshire'},\n",
       " {'NewYorkNY'},\n",
       " {'GlasgowBangorME'},\n",
       " {'WiltshireEnglandNiagaraFallsNY'},\n",
       " {'HaverfordPACooperstownNY'},\n",
       " {'JacksonvilleFL'},\n",
       " {'DevonportEngland'},\n",
       " {'SyriaKentON'},\n",
       " {'AustriaHungaryGermantownPhiladelphiaPA'},\n",
       " {'StIvesCornwallCalumetMI'},\n",
       " {'NorrlotSwedenChicagoIL'},\n",
       " {'GunturIndiaBentonHarbourMI'},\n",
       " {'HuntingtonWV'},\n",
       " {'HarrowontheHillMiddlesex'},\n",
       " {'LakeArthurChavezCountyNM'},\n",
       " {'ToftaSwedenJolietIL'},\n",
       " {'GuernseyEnglandEdgewoodRI'},\n",
       " {'BathEnglandMassachusetts'},\n",
       " {'VictoriaBC'},\n",
       " {'CopenhagenDenmark'},\n",
       " {'ForesvikNorwayPortlandND'},\n",
       " {'MyrenSwedenNewYorkNY'},\n",
       " {'EnglandBenningtonVT'},\n",
       " {'male'},\n",
       " {'CalgaryAB'},\n",
       " {'EastOrangeNJ'},\n",
       " {'CoLimerickIrelandSherbrookePQ'},\n",
       " {'NorthEvingtonEngland'},\n",
       " {'WimbledonParkLondonHaylingIslandHants'},\n",
       " {'CooperstownNY'},\n",
       " {'DorkingSurreyEngland'},\n",
       " {'home.dest'},\n",
       " {'EnglandPhiladelphiaPA'},\n",
       " {'MilwaukeeWI'},\n",
       " {'KingwilliamstownCoCorkIrelandGlensFallsNY'},\n",
       " {'SyriaOttawaON'},\n",
       " {'sex'},\n",
       " {'AlbanyNY'},\n",
       " {'TuxedoParkNY'},\n",
       " {'IsleworthEngland'},\n",
       " {'RoachdaleIN'},\n",
       " {'Guernsey'},\n",
       " {'NewYorkNYBriarcliffManorNY'},\n",
       " {'IlfordEssexWinnipegMB'},\n",
       " {'WorcesterEngland'},\n",
       " {'Syria'},\n",
       " {'IrelandBrooklynNY'},\n",
       " {'EnglandSacramentoCA'},\n",
       " {'FolkstoneKentNewYorkNY'},\n",
       " {'SomersetBernardsvilleNJ'},\n",
       " {'KrakuddenSwedenMouneIL'},\n",
       " {'AmeniaND'},\n",
       " {'FinlandWashingtonDC'},\n",
       " {'ParisFrance'},\n",
       " {'YoevilEnglandCottageGroveOR'},\n",
       " {'FondduLacWI'},\n",
       " {'ItalyPhiladelphiaPA'},\n",
       " {'GreenwichCT'},\n",
       " {'EnglandOglesbyIL'},\n",
       " {'BournemouthEnglandNewarkNJ'},\n",
       " {'TorontoON'},\n",
       " {'KilmacowenCoSligoIrelandNewYorkNY'},\n",
       " {'CapeTownSouthAfricaSeattleWA'},\n",
       " {'WoodfordCountyKY'},\n",
       " {'BelmontMA'},\n",
       " {'SarniaON'},\n",
       " {'TokyoJapan'},\n",
       " {'Cornwall'},\n",
       " {'StantonIA'},\n",
       " {'MadridSpain'},\n",
       " {'IlfracombeDevon'},\n",
       " {'LondonMiddlesex'},\n",
       " {'BulgariaCoonRapidsIA'},\n",
       " {'EnglandNewYorkNY'},\n",
       " {'PerkinsCountySD'},\n",
       " {'GenevaSwitzerlandRadnorPA'},\n",
       " {'WestKensingtonLondon'},\n",
       " {'NorwayLosAngelesCA'},\n",
       " {'DagsasSwedenFowerMN'},\n",
       " {'MiddleburgHeightsOH'},\n",
       " {'LondonWinnipegMB'},\n",
       " {'PlymouthDorsetHoughtonMI'},\n",
       " {'StreathamSurrey'},\n",
       " {'LondonBirmingham'},\n",
       " {'BuffaloNY'},\n",
       " {'BaselSwitzerland'},\n",
       " {'Cherbourg'},\n",
       " {'female'},\n",
       " {'TrentonNJ'},\n",
       " {'BishopstokeHantsFayetteValleyID'},\n",
       " {'Pennsylvania'},\n",
       " {'ScituateMA'},\n",
       " {'AltdorfSwitzerland'},\n",
       " {'WashingtonDC'},\n",
       " {'NewYorkNYWashingtonDC'},\n",
       " {'LiverpoolEnglandBedfordOH'},\n",
       " {'BrunswickME'},\n",
       " {'OttawaON'},\n",
       " {'BournemouthEngland'},\n",
       " {'Liverpool'},\n",
       " {'Paris'},\n",
       " {'StLeonardsonSeaEnglandOhio'},\n",
       " {'EnglandHartfordCT'},\n",
       " {'StockholmSweden'},\n",
       " {'RuotsinphytaaFinlandNewYorkNY'},\n",
       " {'SpringfieldMA'}]"
      ]
     },
     "execution_count": 65,
     "metadata": {},
     "output_type": "execute_result"
    }
   ],
   "source": [
    "# décommenter les lignes suivantes:\n",
    "\n",
    "print(\"Pour la BASE Titanic :\")\n",
    "noms_items(Base_titanic)\n",
    "\n",
    "print(\"Exemple: singletons(Base_titanic) rend :\")\n",
    "singletons(Base_titanic)"
   ]
  },
  {
   "cell_type": "code",
   "execution_count": 26,
   "metadata": {},
   "outputs": [
    {
     "name": "stdout",
     "output_type": "stream",
     "text": [
      "({'dead', 'male'}, 0.46963562753036436)\n",
      "({'Southampton', 'male'}, 0.46288798920377866)\n",
      "({'Southampton', 'dead'}, 0.41295546558704455)\n",
      "({'Southampton', 'dead', 'male'}, 0.3684210526315789)\n",
      "({'female', 'alive'}, 0.32388663967611336)\n",
      "({'Southampton', '2nd'}, 0.30634278002699056)\n",
      "({'Southampton', 'alive'}, 0.2982456140350877)\n",
      "({'Southampton', 'female'}, 0.2483130904183536)\n",
      "({'1st', 'alive'}, 0.23076923076923078)\n",
      "({'1st', 'male'}, 0.21997300944669365)\n",
      "({'Southampton', '1st'}, 0.20917678812415655)\n",
      "({'male', '2nd'}, 0.20647773279352227)\n",
      "({'Southampton', 'female', 'alive'}, 0.203778677462888)\n"
     ]
    }
   ],
   "source": [
    "#VERIFICATION\n",
    "Lres = apriori(Base_titanic,0.2)\n",
    "\n",
    "# tri sur les valeurs de supports:\n",
    "#print(sorted(Lres, key=lambda data: data[1]))\n",
    "\n",
    "# tri sur la taille des itemsets\n",
    "#print(sorted(Lres, key=lambda data: len(data[0])))\n",
    "\n",
    "for t in sorted(Lres, key=lambda data: data[1],reverse = True):\n",
    "    if len(t[0])>1:\n",
    "        print(t)\n"
   ]
  },
  {
   "cell_type": "code",
   "execution_count": 79,
   "metadata": {},
   "outputs": [
    {
     "name": "stdout",
     "output_type": "stream",
     "text": [
      "[({'2nd', 'male'}, 0.20647773279352227), ({'Southampton', '1st'}, 0.20917678812415655), ({'1st', 'male'}, 0.21997300944669365), ({'Cherbourg'}, 0.23751686909581646), ({'Southampton', 'female'}, 0.2483130904183536), ({'3rd'}, 0.27125506072874495), ({'Southampton', '2nd'}, 0.30634278002699056), ({'2nd'}, 0.3481781376518219), ({'1st'}, 0.3792172739541161), ({'female'}, 0.38866396761133604), ({'Southampton', 'male'}, 0.46288798920377866), ({'male'}, 0.6099865047233468), ({'Southampton'}, 0.7112010796221323)]\n",
      "({'Southampton', 'male'}, 0.46288798920377866)\n",
      "({'Southampton', '2nd'}, 0.30634278002699056)\n",
      "({'Southampton', 'female'}, 0.2483130904183536)\n",
      "({'1st', 'male'}, 0.21997300944669365)\n",
      "({'Southampton', '1st'}, 0.20917678812415655)\n",
      "({'2nd', 'male'}, 0.20647773279352227)\n"
     ]
    }
   ],
   "source": [
    "Lres = apriori(Base_titanic,0.2)\n",
    "\n",
    "# tri sur les valeurs de supports:\n",
    "print(sorted(Lres, key=lambda data: data[1]))\n",
    "\n",
    "# tri sur la taille des itemsets\n",
    "#print(sorted(Lres, key=lambda data: len(data[0])))\n",
    "\n",
    "for t in sorted(Lres, key=lambda data: data[1],reverse = True):\n",
    "    if len(t[0])>1:\n",
    "        print(t)"
   ]
  },
  {
   "cell_type": "markdown",
   "metadata": {},
   "source": [
    "<font color=\"RED\" size=\"+1\">**[Q]**</font>  Utiliser le programme <code>apriori32</code> pour générer des règles d'association (voir les différentes options en annexe) sur les différentes bases de données fournies. Tester différents seuils (support et confiance). "
   ]
  },
  {
   "cell_type": "code",
   "execution_count": null,
   "metadata": {},
   "outputs": [],
   "source": []
  },
  {
   "cell_type": "markdown",
   "metadata": {},
   "source": [
    "<font color=\"RED\" size=\"+1\">**[Q]**</font>   Ajouter les deux mesures d'intérêt vues en TD (lift et RR) et afficher leurs valeurs pour chaque règle trouvée. Ajouter un argument au programme afin de pouvoir sélectionner une de ces mesures pour éliminer les règles inintéressantes.\n"
   ]
  },
  {
   "cell_type": "code",
   "execution_count": null,
   "metadata": {},
   "outputs": [],
   "source": []
  },
  {
   "cell_type": "markdown",
   "metadata": {},
   "source": [
    "<font color=\"RED\" size=\"+1\">**[Q]**</font>  Ajouter les deux mesures d'intérêt suivantes et afficher leurs valeurs\n",
    "  pour chaque règle trouvée. Ajouter un argument au programme afin de pouvoir sélectionner une de ces mesures pour éliminer les règles inintéressantes.\n",
    "  \n",
    "Par exemple:\n",
    "\n",
    "\\begin{align}\n",
    "  \\mbox{Interest}(X \\longrightarrow Y) & =  \\frac{P(X,Y)}{P(X)}P(Y) \\nonumber\\\\\n",
    " \\mbox{IS}(X \\longrightarrow Y) & =  \\frac{P(X,Y)}{\\sqrt{P(X)P(Y)}} \\nonumber\n",
    "\\end{align}"
   ]
  },
  {
   "cell_type": "markdown",
   "metadata": {},
   "source": [
    "### Utilisation de fp-growth"
   ]
  },
  {
   "cell_type": "markdown",
   "metadata": {},
   "source": [
    "<font color=\"RED\" size=\"+1\">**[Q]**</font>   Utiliser <code>fpgrowth32</code> pour générer des règles d'association sur les différentes\n",
    "  bases de données. Comparer avec les résultats obtenus dans la section précédente. En  particulier, comparer les temps d'éxecution."
   ]
  },
  {
   "cell_type": "code",
   "execution_count": null,
   "metadata": {},
   "outputs": [],
   "source": []
  },
  {
   "cell_type": "markdown",
   "metadata": {},
   "source": [
    "<font color=\"RED\" size=\"+1\">**[Q]**</font>  En essayant différentes valeurs de seuil, tester la génération de règles d'association intéressantes sur les bases de données fournies."
   ]
  },
  {
   "cell_type": "code",
   "execution_count": null,
   "metadata": {},
   "outputs": [],
   "source": []
  },
  {
   "cell_type": "markdown",
   "metadata": {},
   "source": [
    "## Annexes: utilisation des programmes *apriori32* et *fpgrowth32*\n",
    "\n",
    "La documentation complète de ces programmes est disponible aux URL suivantes:\n",
    "- pour *apriori*: http://www.borgelt.net/doc/apriori/apriori.html\n",
    "- pour *fp-growth*: http://www.borgelt.net/doc/fpgrowth/fpgrowth.html\n",
    "\n",
    "\n",
    "Leur format d'utilisation général est:\n",
    "\n",
    "        ./<programme> [options] infile [outfile]\n",
    "\n",
    "(où <<code>programme</code>> est soit *apriori32*, soit *fpgrowth32*).\n",
    "\n",
    "Les options de base de ces 2 programmes sont:\n",
    "- sans argument: génération des itemsets fréquents (argument {<code>-ts</code> activé par défaut)\n",
    "- *tr*: pour obtenir les règles d'associations\n",
    "- *s*: pour fournir une valeur minimale de support. Le support est ici donné en valeur absolue ($n_{AB}$) et non pas en valeur relative ($\\frac{n_{AB}}{n}$).\n",
    "- *m*: pour fournir un nombre minimum d'items dans un itemset\n",
    "- *n*: pour fournir un nombre maximum d'items dans un itemset\n",
    "\n",
    "\n",
    "Par exemple (commandes lancées dans le répertoire père du répertoire *datasets/*):\n",
    "\n",
    "        ./apriori32 -trs50m2n5 datasets/exemple-1.txt fichier-resultat.out  \n",
    "        ./fpgrowth32 -trs50m2n5 datasets/mushrooms.txt fichier-resultat.out  \n"
   ]
  },
  {
   "cell_type": "code",
   "execution_count": null,
   "metadata": {},
   "outputs": [],
   "source": []
  }
 ],
 "metadata": {
  "kernelspec": {
   "display_name": "Python 3",
   "language": "python",
   "name": "python3"
  },
  "language_info": {
   "codemirror_mode": {
    "name": "ipython",
    "version": 3
   },
   "file_extension": ".py",
   "mimetype": "text/x-python",
   "name": "python",
   "nbconvert_exporter": "python",
   "pygments_lexer": "ipython3",
   "version": "3.7.1"
  }
 },
 "nbformat": 4,
 "nbformat_minor": 1
}
