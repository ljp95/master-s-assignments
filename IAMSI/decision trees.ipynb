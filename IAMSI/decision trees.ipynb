{
 "cells": [
  {
   "cell_type": "markdown",
   "metadata": {},
   "source": [
    "IAMSI -- 2018-2019\n",
    "--------\n",
    "*&copy; Equipe pédagogique : Gauvain Bourgne, Jean-Gabriel Ganascia, Colette Faucher, Marie-Jeanne Lesot, Christophe Marsala.*\n",
    "\n",
    "# TME 10 : Arbres de décision"
   ]
  },
  {
   "cell_type": "markdown",
   "metadata": {},
   "source": [
    "<font color=\"RED\" size=\"+1\">**[Q]**</font> **Indiquer dans la boîte ci-dessous vos noms et prénoms:**"
   ]
  },
  {
   "cell_type": "markdown",
   "metadata": {},
   "source": [
    "LAM Jean-Paul et SOUKSAVA Elodie"
   ]
  },
  {
   "cell_type": "markdown",
   "metadata": {},
   "source": [
    "<font color=\"RED\" size=\"+1\">**[Q]**</font> **Renommer ce notebook**\n",
    "\n",
    "Tout en haut de cette page, cliquer sur <tt>TME-10</tt> et rajouter à la suite de <tt>TME-10</tt> les noms des membres du binômes séparés par un tiret.\n",
    "\n",
    "Par exemple, pour le binôme Luke Skywalker et Han Solo, le nom de fichier devient : <pre>TME-10-Skywalker-Solo</pre>\n",
    "\n",
    "Penser à sauvegarder fréquemment le fichier en cours de travail :\n",
    "- soit en cliquant sur l'icône \"disquette\"\n",
    "- soit par la combinaison de touches [Ctrl]-S"
   ]
  },
  {
   "cell_type": "markdown",
   "metadata": {},
   "source": [
    "## Présentation"
   ]
  },
  {
   "cell_type": "markdown",
   "metadata": {},
   "source": [
    "#### Compte-rendu de la séance\n",
    "\n",
    "Le compte-rendu de ce TME se compose de ce fichier ipython complété par les réponses aux questions posées.\n",
    "\n",
    "A l'issue de la séance, vous devrez poster ce fichier à votre chargé de TD. \n",
    "** Attention: pas d'envoi supplémentaire à l'issue de la séance.**\n"
   ]
  },
  {
   "cell_type": "markdown",
   "metadata": {},
   "source": [
    "### Chargement de numpy\n",
    "\n",
    "Avant de commencer, exécutez la boîte suivante qui permet d'utiliser ensuite la librairie Python numpy qui fournit des facilités pour manipuler des tableaux. En cas de besoin, vous pouvez vous référer à la documentation qui se trouve ici:\n",
    "- http://www.numpy.org/\n"
   ]
  },
  {
   "cell_type": "code",
   "execution_count": 1,
   "metadata": {},
   "outputs": [],
   "source": [
    "import numpy as np\n",
    "\n",
    "# A partir d'ici, les fonctions de la librairie numpy sont accessibles en utilisant \n",
    "# le préfixe \"np.\""
   ]
  },
  {
   "cell_type": "markdown",
   "metadata": {},
   "source": [
    "## Utilisation de scikit-learn\n",
    "\n",
    "La librairie Python scikit-learn fournit tout un ensemble de fonctions pour utiliser des algorithmes d'apprentissage, dont beaucoup sont fournis implémentés.\n",
    "Dans le cadre de ce TME, nous allons utiliser l'implémentation de l'algorithme de construction d'arbres de décision qui est fournie dans cette librairie.\n",
    "\n",
    "Tout au long de cette séance, vous pouvez vous référer à la documentation disponible ici:\n",
    "- http://scikit-learn.org/stable/index.html"
   ]
  },
  {
   "cell_type": "markdown",
   "metadata": {},
   "source": [
    "### Chargement d'une base d'apprentissage prédéfinie\n",
    "\n",
    "Scikit-learn est fournie avec quelques bases d'apprentissage classiques comme, par exemple, la base des Iris de Fischer."
   ]
  },
  {
   "cell_type": "markdown",
   "metadata": {},
   "source": [
    "Exécuter les 2 commandes suivantes permettant de charger la base des Iris dans la session:"
   ]
  },
  {
   "cell_type": "code",
   "execution_count": 2,
   "metadata": {},
   "outputs": [],
   "source": [
    "from sklearn.datasets import load_iris\n",
    "base_iris = load_iris()"
   ]
  },
  {
   "cell_type": "markdown",
   "metadata": {},
   "source": [
    "En vous aidant de la documentation de l'API: \n",
    "- http://scikit-learn.org/stable/datasets/index.html#datasets\n",
    "\n",
    "<font color=\"RED\" size=\"+1\">**[Q]**</font> Donnez dans les boîtes suivantes les commandes "
   ]
  },
  {
   "cell_type": "markdown",
   "metadata": {},
   "source": [
    "- pour afficher le nom des attributs de description:"
   ]
  },
  {
   "cell_type": "code",
   "execution_count": 3,
   "metadata": {},
   "outputs": [
    {
     "name": "stdout",
     "output_type": "stream",
     "text": [
      "['sepal length (cm)', 'sepal width (cm)', 'petal length (cm)', 'petal width (cm)']\n"
     ]
    }
   ],
   "source": [
    "print(base_iris.feature_names)"
   ]
  },
  {
   "cell_type": "markdown",
   "metadata": {},
   "source": [
    "- pour afficher les descriptions de l'ensemble des exemples de la base:"
   ]
  },
  {
   "cell_type": "code",
   "execution_count": 5,
   "metadata": {},
   "outputs": [
    {
     "name": "stdout",
     "output_type": "stream",
     "text": [
      "Quelques descriptions (les 10 premières):\n",
      "[[5.1 3.5 1.4 0.2]\n",
      " [4.9 3.  1.4 0.2]\n",
      " [4.7 3.2 1.3 0.2]\n",
      " [4.6 3.1 1.5 0.2]\n",
      " [5.  3.6 1.4 0.2]\n",
      " [5.4 3.9 1.7 0.4]\n",
      " [4.6 3.4 1.4 0.3]\n",
      " [5.  3.4 1.5 0.2]\n",
      " [4.4 2.9 1.4 0.2]\n",
      " [4.9 3.1 1.5 0.1]]\n"
     ]
    }
   ],
   "source": [
    "print(\"Quelques descriptions (les 10 premières):\")\n",
    "print(base_iris.data[:10])"
   ]
  },
  {
   "cell_type": "markdown",
   "metadata": {},
   "source": [
    "- pour afficher les noms des classes:"
   ]
  },
  {
   "cell_type": "code",
   "execution_count": 6,
   "metadata": {},
   "outputs": [
    {
     "name": "stdout",
     "output_type": "stream",
     "text": [
      "['setosa' 'versicolor' 'virginica']\n"
     ]
    }
   ],
   "source": [
    "print(base_iris.target_names)"
   ]
  },
  {
   "cell_type": "markdown",
   "metadata": {},
   "source": [
    "- pour afficher les valeurs des classes pour l'ensemble des exemples de la base:"
   ]
  },
  {
   "cell_type": "code",
   "execution_count": 7,
   "metadata": {},
   "outputs": [
    {
     "name": "stdout",
     "output_type": "stream",
     "text": [
      "[0 0 0 0 0 0 0 0 0 0 0 0 0 0 0 0 0 0 0 0 0 0 0 0 0 0 0 0 0 0 0 0 0 0 0 0 0\n",
      " 0 0 0 0 0 0 0 0 0 0 0 0 0 1 1 1 1 1 1 1 1 1 1 1 1 1 1 1 1 1 1 1 1 1 1 1 1\n",
      " 1 1 1 1 1 1 1 1 1 1 1 1 1 1 1 1 1 1 1 1 1 1 1 1 1 1 2 2 2 2 2 2 2 2 2 2 2\n",
      " 2 2 2 2 2 2 2 2 2 2 2 2 2 2 2 2 2 2 2 2 2 2 2 2 2 2 2 2 2 2 2 2 2 2 2 2 2\n",
      " 2 2]\n"
     ]
    }
   ],
   "source": [
    "print(base_iris.target)"
   ]
  },
  {
   "cell_type": "markdown",
   "metadata": {},
   "source": [
    "<font color=\"RED\" size=\"+1\">**[Q]**</font> Donner une instruction Python permettant de savoir combien d'exemples contient la base."
   ]
  },
  {
   "cell_type": "code",
   "execution_count": 8,
   "metadata": {},
   "outputs": [
    {
     "name": "stdout",
     "output_type": "stream",
     "text": [
      "150\n"
     ]
    }
   ],
   "source": [
    "print(len(base_iris.data))"
   ]
  },
  {
   "cell_type": "markdown",
   "metadata": {},
   "source": [
    "<font color=\"RED\" size=\"+1\">**[Q]**</font> Ecrire la fonction affiche_exemple() qui prend en argument une base d'exemples et un  entier $i$ et qui affiche *joliment* l'exemple d'indice $i$ de la base, sur le format donné en exemple ci-dessous.\n",
    "On fait l'hypothèse que l'indice est correct pour la base donnée."
   ]
  },
  {
   "cell_type": "code",
   "execution_count": 9,
   "metadata": {},
   "outputs": [],
   "source": [
    "def affiche_exemple(base,i):\n",
    "    print('Exemple {}:\\n'.format(i))\n",
    "    for j in range(len(base.feature_names)):\n",
    "        print('\\t {} \\t : {}'.format(base.feature_names[j],base.data[i][j]))\n",
    "    print('\\t -> Classe {}'.format(base.target_names[base.target[i]]))"
   ]
  },
  {
   "cell_type": "code",
   "execution_count": 10,
   "metadata": {},
   "outputs": [
    {
     "name": "stdout",
     "output_type": "stream",
     "text": [
      "Exemple 0:\n",
      "\n",
      "\t sepal length (cm) \t : 5.1\n",
      "\t sepal width (cm) \t : 3.5\n",
      "\t petal length (cm) \t : 1.4\n",
      "\t petal width (cm) \t : 0.2\n",
      "\t -> Classe setosa\n"
     ]
    }
   ],
   "source": [
    "affiche_exemple(base_iris,0)"
   ]
  },
  {
   "cell_type": "code",
   "execution_count": 11,
   "metadata": {},
   "outputs": [
    {
     "name": "stdout",
     "output_type": "stream",
     "text": [
      "Exemple 50:\n",
      "\n",
      "\t sepal length (cm) \t : 7.0\n",
      "\t sepal width (cm) \t : 3.2\n",
      "\t petal length (cm) \t : 4.7\n",
      "\t petal width (cm) \t : 1.4\n",
      "\t -> Classe versicolor\n"
     ]
    }
   ],
   "source": [
    "affiche_exemple(base_iris,50)"
   ]
  },
  {
   "cell_type": "code",
   "execution_count": 12,
   "metadata": {},
   "outputs": [
    {
     "name": "stdout",
     "output_type": "stream",
     "text": [
      "Exemple 149:\n",
      "\n",
      "\t sepal length (cm) \t : 5.9\n",
      "\t sepal width (cm) \t : 3.0\n",
      "\t petal length (cm) \t : 5.1\n",
      "\t petal width (cm) \t : 1.8\n",
      "\t -> Classe virginica\n"
     ]
    }
   ],
   "source": [
    "affiche_exemple(base_iris,149)"
   ]
  },
  {
   "cell_type": "markdown",
   "metadata": {},
   "source": [
    "### Constitution d'une base d'apprentissage et d'une base de test\n",
    "\n",
    "Pour mettre au point et vérifier l'efficacité de l'apprentissage du modèle, il est nécessaire de posséder deux ensembles disjoints d'exemples:\n",
    "- l'ensemble des exemples d'apprentissage servant à construire l'arbre de décision (la base d'apprentissage);\n",
    "- l'ensemble des exemples servant à tester l'arbre construit (la base de test).\n",
    "\n",
    "Dans ce qui suit, on construit une base d'apprentissage en prenant 90 exemples de la base des iris (on s'arrange pour que la distribution des classes soit respectée en prenant les premiers 30 exemples de chaque classe) pour la base d'apprentissage (nommée *app_data*, avec les classes correspondantes dans *app_target*) et 60 exemples pour la base de test (nommée *test_data*, avec les classes correspondantes *test_target*)."
   ]
  },
  {
   "cell_type": "code",
   "execution_count": 13,
   "metadata": {},
   "outputs": [
    {
     "name": "stdout",
     "output_type": "stream",
     "text": [
      "Base d'apprentissage :  90  descriptions et  90  labels\n",
      "Base de test :  60  descriptions et  60  labels\n"
     ]
    }
   ],
   "source": [
    "# On utilise ici le fait que dans la base chargée en mémoire: \n",
    "#     - les 50 premiers exemples (indices 0 à 49) sont de la classe 0\n",
    "#     - les 50 exemples suivants (indices 50 à 99) sont de la classe 1\n",
    "#     - les 50 exemples suivants (indices 100 à 150) sont de la classe 2\n",
    "\n",
    "# préparation: détermination des indices pour la séparation des données\n",
    "ind_app_1 = range(0,30)     # les 30 descriptions des premiers exemples de la base (classe 0)\n",
    "ind_tes_1 = range(30,50)    # les 20 descriptions des exemples restants de la classe 0 \n",
    "\n",
    "ind_app_2 = range(50,80)    # les 30 premiers exemples de la classe 1\n",
    "ind_tes_2 = range(80,100)   # les 20 exemples restants de la classe 1\n",
    "\n",
    "ind_app_3 = range(100,130)  # les 30 premiers exemples de la classe 2\n",
    "ind_tes_3 = range(130,150)  # les 20 exemples restants de la classe 2 \n",
    "\n",
    "# constitution de la base d'apprentissage\n",
    "#   1) on duplique les descriptions \n",
    "data_1= base_iris.data[ind_app_1].copy()\n",
    "data_2= base_iris.data[ind_app_2].copy()\n",
    "data_3= base_iris.data[ind_app_3].copy()\n",
    "app_data = np.concatenate((data_1,data_2,data_3), axis=0)\n",
    "\n",
    "#   2) on duplique identiquement les classes associées\n",
    "target_1= base_iris.target[ind_app_1].copy()\n",
    "target_2= base_iris.target[ind_app_2].copy()\n",
    "target_3= base_iris.target[ind_app_3].copy()\n",
    "app_target= np.concatenate((target_1,target_2,target_3), axis=0)\n",
    "\n",
    "# constitution de la base de test\n",
    "#   1) on duplique les descriptions \n",
    "data_4= base_iris.data[ind_tes_1].copy()\n",
    "data_5= base_iris.data[ind_tes_2].copy()\n",
    "data_6= base_iris.data[ind_tes_3].copy()\n",
    "test_data = np.concatenate((data_4, data_5, data_6), axis=0)\n",
    "\n",
    "#   2) on duplique identiquement les classes associées\n",
    "target_4= base_iris.target[ind_tes_1].copy()\n",
    "target_5= base_iris.target[ind_tes_2].copy()\n",
    "target_6= base_iris.target[ind_tes_3].copy()\n",
    "test_target= np.concatenate((target_4,target_5,target_6), axis=0)\n",
    "\n",
    "# tout est prêt: on a 4 variables: 2 pour la base d'apprentissage et 2 pour la base de test:\n",
    "print(\"Base d'apprentissage : \",len(app_data),\" descriptions et \", len(app_target),\" labels\")\n",
    "print(\"Base de test : \",len(test_data),\" descriptions et \", len(test_target),\" labels\")"
   ]
  },
  {
   "cell_type": "markdown",
   "metadata": {},
   "source": [
    "### Construction d'un arbre de décision\n",
    "\n",
    "La construction d'un arbre de décision s'effectue grâce à la fonction *DecisionTreeClassifier* de la librairie *tree* de scikit-learn.\n"
   ]
  },
  {
   "cell_type": "code",
   "execution_count": 14,
   "metadata": {},
   "outputs": [
    {
     "data": {
      "text/plain": [
       "DecisionTreeClassifier(class_weight=None, criterion='gini', max_depth=None,\n",
       "                       max_features=None, max_leaf_nodes=None,\n",
       "                       min_impurity_decrease=0.0, min_impurity_split=None,\n",
       "                       min_samples_leaf=1, min_samples_split=2,\n",
       "                       min_weight_fraction_leaf=0.0, presort=False,\n",
       "                       random_state=None, splitter='best')"
      ]
     },
     "execution_count": 14,
     "metadata": {},
     "output_type": "execute_result"
    }
   ],
   "source": [
    "from sklearn import tree\n",
    "\n",
    "# déclaration / initialisation d'un arbre\n",
    "mon_arbre = tree.DecisionTreeClassifier()\n",
    "\n",
    "# construction de l'arbre avec la base des Iris prise totalement\n",
    "mon_arbre.fit(base_iris.data, base_iris.target)"
   ]
  },
  {
   "cell_type": "markdown",
   "metadata": {},
   "source": [
    "Cette dernière instruction renvoie une référence vers l'arbre construit. Elle fournit aussi une sortie permettant de voir les différents paramètres utilisés lors de la construction.\n",
    "\n",
    "Le paramètre qui nous intéresse ici est le paramètre \"criterion\" qui définit la mesure d'information utilisée pour construire l'arbre.\n",
    "\n",
    "Pour obtenir une construction basée sur l'entropie de Shannon, on utilise la syntaxe suivante qui précise le critère de sélection à utiliser."
   ]
  },
  {
   "cell_type": "code",
   "execution_count": 15,
   "metadata": {},
   "outputs": [
    {
     "data": {
      "text/plain": [
       "DecisionTreeClassifier(class_weight=None, criterion='entropy', max_depth=None,\n",
       "                       max_features=None, max_leaf_nodes=None,\n",
       "                       min_impurity_decrease=0.0, min_impurity_split=None,\n",
       "                       min_samples_leaf=1, min_samples_split=2,\n",
       "                       min_weight_fraction_leaf=0.0, presort=False,\n",
       "                       random_state=None, splitter='best')"
      ]
     },
     "execution_count": 15,
     "metadata": {},
     "output_type": "execute_result"
    }
   ],
   "source": [
    "# initialisation d'un arbre qui sera construit avec l'entropie de Shannon\n",
    "autre_arbre = tree.DecisionTreeClassifier(criterion='entropy')\n",
    "\n",
    "# construction de l'arbre avec la base d'apprentissage réduite au 90 premiers exemples:\n",
    "autre_arbre.fit(app_data, app_target)"
   ]
  },
  {
   "cell_type": "markdown",
   "metadata": {},
   "source": [
    "### Affichage de l'arbre de décision construit\n",
    "\n",
    "L'affichage s'effectue en 2 temps:\n",
    "- la génération de l'arbre au format *.dot* qui est sauvegardé dans un fichier sur le disque;\n",
    "- la transformation, à l'aide de la commande \"dot\" de linux du fichier *.dot* en fichier *.png*.\n",
    "\n",
    "\n",
    "**Remarque**: éventuellement, en cas d'erreur avec l'exécution de la boîte suivante, il vous faudra sans doute mettre à jour votre version de scikit-learn.\n",
    "Dans un terminal:\n",
    "    - lancer la commande\n",
    "\n",
    "        pip install -U --user scikit-learn\n",
    "\n",
    "    - revenir sur ipython notebook, relancer le Kernel et réexécuter les boîtes.\n",
    "    \n",
    "Il se peut que vous ayez aussi à faire une mise à jour de pydot:\n",
    "\n",
    "        pip install -U --user pydot\n"
   ]
  },
  {
   "cell_type": "code",
   "execution_count": 17,
   "metadata": {},
   "outputs": [
    {
     "data": {
      "image/png": "[encoded data removed]",
      "text/plain": [
       "<IPython.core.display.Image object>"
      ]
     },
     "execution_count": 17,
     "metadata": {},
     "output_type": "execute_result"
    }
   ],
   "source": [
    "import io\n",
    "import os\n",
    "import pydot\n",
    "from IPython.display import Image\n",
    "    \n",
    "# Nom à donner au fichier de sauvegarde:\n",
    "fichierOut= \"autre_arbre\"\n",
    "# Génération du fichier .dot représentant l'arbre:\n",
    "dot_file = tree.export_graphviz(autre_arbre, out_file=fichierOut+\".dot\", \\\n",
    "                     feature_names=base_iris.feature_names, \\\n",
    "                     class_names=base_iris.target_names, \\\n",
    "                     filled=True)\n",
    "\n",
    "# Transformation du fichier .dot en fichier .png:\n",
    "os.system(\"dot -T png \" + fichierOut+\".dot -o \" + fichierOut + \".png\")\n",
    "\n",
    "# à partir d'ici, vous devez avoir 2 nouveaux fichiers dans le répertoire courant\n",
    "\n",
    "# Pour afficher l'image obtenue dans la boite Out qui suit:\n",
    "Image(filename=fichierOut+'.png')"
   ]
  },
  {
   "cell_type": "markdown",
   "metadata": {},
   "source": [
    "<font color=\"RED\" size=\"+1\">**[Q]**</font> Examiner l'arbre obtenu et représenter, sur une feuille de brouillon, la frontière de décision vue sur les 2 dimensions \"petal width\" et \"petal length\". Dans chaque zone définie par cette frontière, indiquer la ou les classes correspondantes."
   ]
  },
  {
   "cell_type": "markdown",
   "metadata": {},
   "source": [
    "### Classification avec un arbre de décision\n",
    "\n",
    "La méthode predict() de la classe DecisionTreeClassifier() permet de réaliser la classification d'un ensemble de description (data) avec l'arbre construit.\n",
    "Ainsi, la commande suivante permet d'obtenir le résultat avec l'arbre précédent de la classification de tous les exemples de la base de test que l'on a construit plus haut."
   ]
  },
  {
   "cell_type": "code",
   "execution_count": 18,
   "metadata": {},
   "outputs": [
    {
     "data": {
      "text/plain": [
       "array([0, 0, 0, 0, 0, 0, 0, 0, 0, 0, 0, 0, 0, 0, 0, 0, 0, 0, 0, 0, 1, 1,\n",
       "       1, 2, 1, 1, 1, 1, 1, 1, 1, 1, 1, 1, 1, 1, 1, 1, 1, 1, 2, 2, 2, 2,\n",
       "       2, 2, 2, 2, 1, 2, 2, 2, 2, 2, 2, 2, 2, 2, 2, 2])"
      ]
     },
     "execution_count": 18,
     "metadata": {},
     "output_type": "execute_result"
    }
   ],
   "source": [
    "autre_arbre.predict(test_data)"
   ]
  },
  {
   "cell_type": "markdown",
   "metadata": {},
   "source": [
    "On rappelle que les vraies classes des exemples de test sont les suivantes:"
   ]
  },
  {
   "cell_type": "code",
   "execution_count": 19,
   "metadata": {},
   "outputs": [
    {
     "data": {
      "text/plain": [
       "array([0, 0, 0, 0, 0, 0, 0, 0, 0, 0, 0, 0, 0, 0, 0, 0, 0, 0, 0, 0, 1, 1,\n",
       "       1, 1, 1, 1, 1, 1, 1, 1, 1, 1, 1, 1, 1, 1, 1, 1, 1, 1, 2, 2, 2, 2,\n",
       "       2, 2, 2, 2, 2, 2, 2, 2, 2, 2, 2, 2, 2, 2, 2, 2])"
      ]
     },
     "execution_count": 19,
     "metadata": {},
     "output_type": "execute_result"
    }
   ],
   "source": [
    "test_target"
   ]
  },
  {
   "cell_type": "markdown",
   "metadata": {},
   "source": [
    "<font color=\"RED\" size=\"+1\">**[Q]**</font> Examiner l'arbre obtenu et représenter, sur une feuille de brouillon, la frontière de décision vue sur les 2 dimensions \"petal width\" et \"petal length\". Dans chaque zone définie par cette frontière, indiquer la ou les classes correspondantes. En comparant visuelle ces 2 résultats, combien trouvez-vous d'exemples sont mal classés par l'arbre?"
   ]
  },
  {
   "cell_type": "markdown",
   "metadata": {},
   "source": [
    "<font color=\"RED\" size=\"+1\">**[Q]**</font> Examiner l'arbre obtenu et représenter, sur une feuille de brouillon, la frontière de décision vue sur les 2 dimensions \"petal width\" et \"petal length\". Dans chaque zone définie par cette frontière, indiquer la ou les classes correspondantes. Ecrire la fonction taux_erreur() qui prend en argument deux tableaux (des \"array\" Python), l'un étant le tableau des classes originales et l'autre étant le tableau des classes fournies par le classifieur, et rend le taux d'erreur de la classification réalisée.\n",
    "\n",
    "Le taux d'erreur $t_{err}$ d'un classifieur $M$ se détermine comme suit:\n",
    "$$t_{err}(M)= \\frac{n_{err}(M)}{n_{T}}$$\n",
    "\n",
    "avec: \n",
    "- $n_{err}(M)$: nombre d'exemples de la base de test qui sont mal classés par $M$\n",
    "- $n_{T}$: nombre d'exemples total de la base de test"
   ]
  },
  {
   "cell_type": "code",
   "execution_count": 22,
   "metadata": {},
   "outputs": [],
   "source": [
    "def taux_erreur(true_values,predict_values):\n",
    "    return np.sum(true_values!=predict_values)/len(predict_values)"
   ]
  },
  {
   "cell_type": "code",
   "execution_count": 23,
   "metadata": {},
   "outputs": [
    {
     "data": {
      "text/plain": [
       "0.03333333333333333"
      ]
     },
     "execution_count": 23,
     "metadata": {},
     "output_type": "execute_result"
    }
   ],
   "source": [
    "taux_erreur(test_target,autre_arbre.predict(test_data))"
   ]
  },
  {
   "cell_type": "code",
   "execution_count": 19,
   "metadata": {},
   "outputs": [
    {
     "data": {
      "text/plain": [
       "0.016666666666666666"
      ]
     },
     "execution_count": 19,
     "metadata": {},
     "output_type": "execute_result"
    }
   ],
   "source": [
    "taux_erreur(test_target,autre_arbre.predict(test_data))"
   ]
  },
  {
   "cell_type": "markdown",
   "metadata": {},
   "source": [
    "### Choix aléatoire des exemples d'apprentissage\n",
    "\n",
    "Le taux d'erreur obtenu correspond à une base d'apprentissage construite en prenant les 30 premiers exemples de chaque classe. Pour être rigoureux, il faudrait réaliser l'expérience en prenant *aléatoirement* 30 exemples de chaque classe dans la base.\n",
    "\n",
    "La fonction shuffle() de la librairie Python random permet de mélanger aléatoirement les valeurs d'une liste donnée en argument.\n",
    "Par exemple, exécuter plusieurs fois les instructions de la boîte suivante:"
   ]
  },
  {
   "cell_type": "code",
   "execution_count": 46,
   "metadata": {},
   "outputs": [
    {
     "name": "stdout",
     "output_type": "stream",
     "text": [
      "La liste L avant le mélange:  [0, 1, 2, 3, 4, 5, 6, 7, 8, 9, 10]\n",
      "La liste L après le mélange:  [3, 5, 9, 2, 6, 7, 1, 4, 0, 10, 8]\n"
     ]
    }
   ],
   "source": [
    "import random\n",
    "L= [i for i in range(0,11)]             # construction de la liste des entiers de 0 à 10\n",
    "print(\"La liste L avant le mélange: \",L)\n",
    "random.shuffle(L)                       # mélange aléatoire\n",
    "print(\"La liste L après le mélange: \",L)"
   ]
  },
  {
   "cell_type": "markdown",
   "metadata": {
    "collapsed": true
   },
   "source": [
    "<font color=\"RED\" size=\"+1\">**[Q]**</font> Examiner l'arbre obtenu et représenter, sur une feuille de brouillon, la frontière de décision vue sur les 2 dimensions \"petal width\" et \"petal length\". Dans chaque zone définie par cette frontière, indiquer la ou les classes correspondantes. Ecrire une fonction split_aleatoire() qui prend en argument \n",
    "- 2 bases de type numpy.ndarray:\n",
    "    - une base de descriptions d'exemples (par exemple celle des Iris: base_iris.data), \n",
    "    - la base des classes correspondantes (par exemple, base_iris.target), \n",
    "- un entier donnant le nombre de classes différentes existantes (par exemple, 3) \n",
    "- et un entier (nTrain)\n",
    "\n",
    "et qui rend un quatruplet composé de 4 bases de type numpy.ndarray:\n",
    "- la base train_data construite en prenant les descriptions de nTrain exemples de chaque classe choisis aléatoirement\n",
    "- la base train_class correspondant à la base précédente: elle contient les classes des exemples correspondants\n",
    "- la base test_data construite en prenant les descriptions restantes de chaque classe\n",
    "- la base test_class correspondant à la base précédente.\n",
    "\n",
    "**Remarque**: si la base contient, au départ, $n$ exemples de la classe $C_1$, il est possible de procéder ainsi:\n",
    "- générer une liste des indices de $0$ à $n-1$;\n",
    "- mélanger aléatoirement ces indices;\n",
    "- retenir les nTrain premiers indices de la liste mélangée pour constituer l'ensemble train. Les indices non retenus sont utilisés pour construire test."
   ]
  },
  {
   "cell_type": "code",
   "execution_count": 83,
   "metadata": {},
   "outputs": [
    {
     "data": {
      "text/plain": [
       "([[5.1, 3.3, 1.7, 0.5],\n",
       "  [5.0, 3.0, 1.6, 0.2],\n",
       "  [5.5, 3.5, 1.3, 0.2],\n",
       "  [5.1, 3.5, 1.4, 0.2],\n",
       "  [5.2, 3.5, 1.5, 0.2],\n",
       "  [4.6, 3.4, 1.4, 0.3],\n",
       "  [4.5, 2.3, 1.3, 0.3],\n",
       "  [4.4, 2.9, 1.4, 0.2],\n",
       "  [4.6, 3.2, 1.4, 0.2],\n",
       "  [5.4, 3.9, 1.3, 0.4],\n",
       "  [6.3, 2.5, 4.9, 1.5],\n",
       "  [5.5, 2.3, 4.0, 1.3],\n",
       "  [6.4, 3.2, 4.5, 1.5],\n",
       "  [5.8, 2.6, 4.0, 1.2],\n",
       "  [6.7, 3.1, 4.4, 1.4],\n",
       "  [5.8, 2.7, 4.1, 1.0],\n",
       "  [5.7, 2.9, 4.2, 1.3],\n",
       "  [7.0, 3.2, 4.7, 1.4],\n",
       "  [5.6, 2.5, 3.9, 1.1],\n",
       "  [5.4, 3.0, 4.5, 1.5],\n",
       "  [6.9, 3.2, 5.7, 2.3],\n",
       "  [6.7, 3.3, 5.7, 2.5],\n",
       "  [6.1, 3.0, 4.9, 1.8],\n",
       "  [7.6, 3.0, 6.6, 2.1],\n",
       "  [5.6, 2.8, 4.9, 2.0],\n",
       "  [6.7, 3.0, 5.2, 2.3],\n",
       "  [7.7, 2.8, 6.7, 2.0],\n",
       "  [4.9, 2.5, 4.5, 1.7],\n",
       "  [7.7, 3.0, 6.1, 2.3],\n",
       "  [6.7, 3.1, 5.6, 2.4]],\n",
       " [0,\n",
       "  0,\n",
       "  0,\n",
       "  0,\n",
       "  0,\n",
       "  0,\n",
       "  0,\n",
       "  0,\n",
       "  0,\n",
       "  0,\n",
       "  1,\n",
       "  1,\n",
       "  1,\n",
       "  1,\n",
       "  1,\n",
       "  1,\n",
       "  1,\n",
       "  1,\n",
       "  1,\n",
       "  1,\n",
       "  2,\n",
       "  2,\n",
       "  2,\n",
       "  2,\n",
       "  2,\n",
       "  2,\n",
       "  2,\n",
       "  2,\n",
       "  2,\n",
       "  2],\n",
       " [[5.7, 3.8, 1.7, 0.3],\n",
       "  [4.9, 3.0, 1.4, 0.2],\n",
       "  [5.3, 3.7, 1.5, 0.2],\n",
       "  [4.6, 3.1, 1.5, 0.2],\n",
       "  [4.4, 3.2, 1.3, 0.2],\n",
       "  [4.8, 3.4, 1.6, 0.2],\n",
       "  [4.9, 3.1, 1.5, 0.2],\n",
       "  [5.0, 3.5, 1.6, 0.6],\n",
       "  [5.0, 3.5, 1.3, 0.3],\n",
       "  [4.3, 3.0, 1.1, 0.1],\n",
       "  [5.4, 3.4, 1.7, 0.2],\n",
       "  [5.2, 3.4, 1.4, 0.2],\n",
       "  [5.2, 4.1, 1.5, 0.1],\n",
       "  [5.4, 3.7, 1.5, 0.2],\n",
       "  [5.0, 3.4, 1.5, 0.2],\n",
       "  [5.0, 3.3, 1.4, 0.2],\n",
       "  [5.4, 3.4, 1.5, 0.4],\n",
       "  [5.7, 4.4, 1.5, 0.4],\n",
       "  [5.1, 3.5, 1.4, 0.3],\n",
       "  [4.8, 3.4, 1.9, 0.2],\n",
       "  [4.4, 3.0, 1.3, 0.2],\n",
       "  [5.1, 3.4, 1.5, 0.2],\n",
       "  [5.1, 3.8, 1.9, 0.4],\n",
       "  [4.8, 3.1, 1.6, 0.2],\n",
       "  [5.8, 4.0, 1.2, 0.2],\n",
       "  [5.1, 3.8, 1.5, 0.3],\n",
       "  [4.8, 3.0, 1.4, 0.1],\n",
       "  [5.0, 3.4, 1.6, 0.4],\n",
       "  [4.9, 3.1, 1.5, 0.1],\n",
       "  [4.9, 3.6, 1.4, 0.1],\n",
       "  [4.6, 3.6, 1.0, 0.2],\n",
       "  [5.1, 3.7, 1.5, 0.4],\n",
       "  [5.1, 3.8, 1.6, 0.2],\n",
       "  [4.7, 3.2, 1.6, 0.2],\n",
       "  [4.7, 3.2, 1.3, 0.2],\n",
       "  [5.4, 3.9, 1.7, 0.4],\n",
       "  [5.5, 4.2, 1.4, 0.2],\n",
       "  [5.0, 3.2, 1.2, 0.2],\n",
       "  [5.0, 3.6, 1.4, 0.2],\n",
       "  [4.8, 3.0, 1.4, 0.3],\n",
       "  [6.2, 2.2, 4.5, 1.5],\n",
       "  [5.5, 2.4, 3.8, 1.1],\n",
       "  [6.7, 3.1, 4.7, 1.5],\n",
       "  [5.9, 3.2, 4.8, 1.8],\n",
       "  [5.6, 3.0, 4.1, 1.3],\n",
       "  [5.9, 3.0, 4.2, 1.5],\n",
       "  [5.5, 2.5, 4.0, 1.3],\n",
       "  [6.0, 2.9, 4.5, 1.5],\n",
       "  [5.5, 2.6, 4.4, 1.2],\n",
       "  [6.1, 3.0, 4.6, 1.4],\n",
       "  [5.6, 2.7, 4.2, 1.3],\n",
       "  [5.6, 2.9, 3.6, 1.3],\n",
       "  [6.2, 2.9, 4.3, 1.3],\n",
       "  [6.6, 2.9, 4.6, 1.3],\n",
       "  [6.0, 2.2, 4.0, 1.0],\n",
       "  [5.7, 3.0, 4.2, 1.2],\n",
       "  [5.7, 2.8, 4.1, 1.3],\n",
       "  [6.9, 3.1, 4.9, 1.5],\n",
       "  [5.7, 2.8, 4.5, 1.3],\n",
       "  [6.0, 2.7, 5.1, 1.6],\n",
       "  [6.3, 2.3, 4.4, 1.3],\n",
       "  [6.1, 2.8, 4.7, 1.2],\n",
       "  [5.6, 3.0, 4.5, 1.5],\n",
       "  [5.1, 2.5, 3.0, 1.1],\n",
       "  [5.5, 2.4, 3.7, 1.0],\n",
       "  [5.8, 2.7, 3.9, 1.2],\n",
       "  [5.0, 2.3, 3.3, 1.0],\n",
       "  [5.7, 2.6, 3.5, 1.0],\n",
       "  [4.9, 2.4, 3.3, 1.0],\n",
       "  [6.6, 3.0, 4.4, 1.4],\n",
       "  [5.2, 2.7, 3.9, 1.4],\n",
       "  [6.0, 3.4, 4.5, 1.6],\n",
       "  [6.8, 2.8, 4.8, 1.4],\n",
       "  [6.1, 2.9, 4.7, 1.4],\n",
       "  [6.1, 2.8, 4.0, 1.3],\n",
       "  [6.3, 3.3, 4.7, 1.6],\n",
       "  [6.4, 2.9, 4.3, 1.3],\n",
       "  [6.5, 2.8, 4.6, 1.5],\n",
       "  [6.7, 3.0, 5.0, 1.7],\n",
       "  [5.0, 2.0, 3.5, 1.0],\n",
       "  [5.8, 2.7, 5.1, 1.9],\n",
       "  [6.3, 2.5, 5.0, 1.9],\n",
       "  [7.1, 3.0, 5.9, 2.1],\n",
       "  [6.9, 3.1, 5.1, 2.3],\n",
       "  [6.3, 2.7, 4.9, 1.8],\n",
       "  [5.8, 2.8, 5.1, 2.4],\n",
       "  [6.4, 2.8, 5.6, 2.2],\n",
       "  [7.7, 3.8, 6.7, 2.2],\n",
       "  [7.7, 2.6, 6.9, 2.3],\n",
       "  [6.7, 3.3, 5.7, 2.1],\n",
       "  [5.7, 2.5, 5.0, 2.0],\n",
       "  [6.4, 3.1, 5.5, 1.8],\n",
       "  [6.5, 3.0, 5.2, 2.0],\n",
       "  [5.8, 2.7, 5.1, 1.9],\n",
       "  [6.0, 3.0, 4.8, 1.8],\n",
       "  [6.2, 3.4, 5.4, 2.3],\n",
       "  [7.2, 3.2, 6.0, 1.8],\n",
       "  [6.5, 3.0, 5.8, 2.2],\n",
       "  [7.3, 2.9, 6.3, 1.8],\n",
       "  [7.9, 3.8, 6.4, 2.0],\n",
       "  [6.3, 2.9, 5.6, 1.8],\n",
       "  [6.8, 3.0, 5.5, 2.1],\n",
       "  [6.3, 2.8, 5.1, 1.5],\n",
       "  [6.8, 3.2, 5.9, 2.3],\n",
       "  [6.9, 3.1, 5.4, 2.1],\n",
       "  [7.4, 2.8, 6.1, 1.9],\n",
       "  [6.3, 3.3, 6.0, 2.5],\n",
       "  [6.3, 3.4, 5.6, 2.4],\n",
       "  [7.2, 3.0, 5.8, 1.6],\n",
       "  [5.9, 3.0, 5.1, 1.8],\n",
       "  [6.4, 2.8, 5.6, 2.1],\n",
       "  [7.2, 3.6, 6.1, 2.5],\n",
       "  [6.5, 3.0, 5.5, 1.8],\n",
       "  [6.5, 3.2, 5.1, 2.0],\n",
       "  [6.7, 2.5, 5.8, 1.8],\n",
       "  [6.1, 2.6, 5.6, 1.4],\n",
       "  [6.4, 3.2, 5.3, 2.3],\n",
       "  [6.2, 2.8, 4.8, 1.8],\n",
       "  [6.0, 2.2, 5.0, 1.5],\n",
       "  [6.4, 2.7, 5.3, 1.9]],\n",
       " [0,\n",
       "  0,\n",
       "  0,\n",
       "  0,\n",
       "  0,\n",
       "  0,\n",
       "  0,\n",
       "  0,\n",
       "  0,\n",
       "  0,\n",
       "  0,\n",
       "  0,\n",
       "  0,\n",
       "  0,\n",
       "  0,\n",
       "  0,\n",
       "  0,\n",
       "  0,\n",
       "  0,\n",
       "  0,\n",
       "  0,\n",
       "  0,\n",
       "  0,\n",
       "  0,\n",
       "  0,\n",
       "  0,\n",
       "  0,\n",
       "  0,\n",
       "  0,\n",
       "  0,\n",
       "  0,\n",
       "  0,\n",
       "  0,\n",
       "  0,\n",
       "  0,\n",
       "  0,\n",
       "  0,\n",
       "  0,\n",
       "  0,\n",
       "  0,\n",
       "  1,\n",
       "  1,\n",
       "  1,\n",
       "  1,\n",
       "  1,\n",
       "  1,\n",
       "  1,\n",
       "  1,\n",
       "  1,\n",
       "  1,\n",
       "  1,\n",
       "  1,\n",
       "  1,\n",
       "  1,\n",
       "  1,\n",
       "  1,\n",
       "  1,\n",
       "  1,\n",
       "  1,\n",
       "  1,\n",
       "  1,\n",
       "  1,\n",
       "  1,\n",
       "  1,\n",
       "  1,\n",
       "  1,\n",
       "  1,\n",
       "  1,\n",
       "  1,\n",
       "  1,\n",
       "  1,\n",
       "  1,\n",
       "  1,\n",
       "  1,\n",
       "  1,\n",
       "  1,\n",
       "  1,\n",
       "  1,\n",
       "  1,\n",
       "  1,\n",
       "  2,\n",
       "  2,\n",
       "  2,\n",
       "  2,\n",
       "  2,\n",
       "  2,\n",
       "  2,\n",
       "  2,\n",
       "  2,\n",
       "  2,\n",
       "  2,\n",
       "  2,\n",
       "  2,\n",
       "  2,\n",
       "  2,\n",
       "  2,\n",
       "  2,\n",
       "  2,\n",
       "  2,\n",
       "  2,\n",
       "  2,\n",
       "  2,\n",
       "  2,\n",
       "  2,\n",
       "  2,\n",
       "  2,\n",
       "  2,\n",
       "  2,\n",
       "  2,\n",
       "  2,\n",
       "  2,\n",
       "  2,\n",
       "  2,\n",
       "  2,\n",
       "  2,\n",
       "  2,\n",
       "  2,\n",
       "  2,\n",
       "  2,\n",
       "  2])"
      ]
     },
     "execution_count": 83,
     "metadata": {},
     "output_type": "execute_result"
    }
   ],
   "source": [
    "def split_aleatoire(base_desc, base_classe, nb_classe, nTrain):\n",
    "\n",
    "    base_desc = base_desc.tolist()\n",
    "    base_classe = base_classe.tolist()\n",
    "    classes = np.unique(base_classe)\n",
    "    train_data = []\n",
    "    train_class = []\n",
    "    test_data =[]\n",
    "    test_class=[]\n",
    "    for c in classes:\n",
    "        b=np.array(base_desc)[base_classe==c]\n",
    "        b= b.tolist()\n",
    "        random.shuffle(b)\n",
    "        train_data += b[:nTrain]\n",
    "        test_data += b[nTrain:]\n",
    "        train_class += [c for i in range(nTrain)]\n",
    "        test_class += [c for i in range(len(b)-nTrain)]\n",
    "        \n",
    "    return train_data,train_class,test_data,test_class\n",
    "\n",
    "split_aleatoire(base_iris.data, np.array(base_iris.target), 3, 10)"
   ]
  },
  {
   "cell_type": "code",
   "execution_count": 22,
   "metadata": {},
   "outputs": [
    {
     "name": "stdout",
     "output_type": "stream",
     "text": [
      "Base départ:  150  exemples\n",
      "Base train :  90  descriptions et  90  labels\n",
      "Base test :  60  descriptions et  60  labels\n"
     ]
    }
   ],
   "source": [
    "print(\"Base départ: \", len(base_iris.data), \" exemples\")\n",
    "train_data, train_class, test_data, test_class = split_aleatoire(base_iris.data,base_iris.target,3, 30)\n",
    "print(\"Base train : \",len(train_data),\" descriptions et \", len(train_class),\" labels\")\n",
    "print(\"Base test : \",len(test_data),\" descriptions et \", len(test_class),\" labels\")"
   ]
  },
  {
   "cell_type": "markdown",
   "metadata": {},
   "source": [
    "<font color=\"RED\" size=\"+1\">**[Q]**</font> Examiner l'arbre obtenu et représenter, sur une feuille de brouillon, la frontière de décision vue sur les 2 dimensions \"petal width\" et \"petal length\". Dans chaque zone définie par cette frontière, indiquer la ou les classes correspondantes. En utilisant la fonction précédente, construire 10 arbres de décisions en prenant à chaque fois 90 exemples d'apprentissage choisis aléatoirement (donc avec 30 exemples de chaque classe) et fournir le taux d'erreur obtenu sur la base de test correspondante. Calculer la moyenne et l'écart type de ce taux d'erreur.\n",
    "\n",
    "\n",
    "**Remarque**: on pourra utiliser les fonctions de la librairie numpy: mean(L) et std(L) qui, pour une liste L de réels donnée, rend la valeur de la moyenne de la liste et son écart type. Par exemple:"
   ]
  },
  {
   "cell_type": "code",
   "execution_count": 23,
   "metadata": {},
   "outputs": [
    {
     "name": "stdout",
     "output_type": "stream",
     "text": [
      "moyenne:  2.0  et écart type:  0.7905694150420949\n"
     ]
    }
   ],
   "source": [
    "L=[1.5, 1, 2.5, 3]\n",
    "print(\"moyenne: \",np.mean(L),\" et écart type: \", np.std(L))"
   ]
  },
  {
   "cell_type": "code",
   "execution_count": 97,
   "metadata": {},
   "outputs": [
    {
     "name": "stdout",
     "output_type": "stream",
     "text": [
      "Construction de 10 arbres de decision avec 90 exemples pris aleatoirement: \n",
      "\n",
      "moyenne , ecart-type : 0.11347517730496455,0.08246491831914117\n"
     ]
    }
   ],
   "source": [
    "print('Construction de 10 arbres de decision avec 90 exemples pris aleatoirement: \\n')\n",
    "#erreurs_app = []\n",
    "def calcul_erreur_moyenne(data,target,nTrain,nClasse):\n",
    "    erreurs_test = []\n",
    "    for i in range(10):\n",
    "        arbre = tree.DecisionTreeClassifier(criterion='entropy')\n",
    "        X_app,Y_app,X_test,Y_test = split_aleatoire(data, np.array(target), nClasse, nTrain)\n",
    "        arbre.fit(X_app,Y_app)\n",
    "        #erreurs_app.append(taux_erreur(Y_app,arbre.predict(X_app)))\n",
    "        erreurs_test.append(taux_erreur(Y_test,arbre.predict(X_test)))\n",
    "    #print('Moyenne app : {}'.format(np.mean(erreurs_app)))\n",
    "    #print('Moyenne test : {}'.format(np.mean(erreurs_test)))\n",
    "    #print('Ecart-type app : {}'.format(np.std(erreurs_app)))\n",
    "    #print('Ecart-type  test : {}'.format(np.std(erreurs_test)))\n",
    "    return np.mean(erreurs_test),np.std(erreurs_test)\n",
    "\n",
    "moy, et = calcul_erreur_moyenne(base_iris.data,base_iris.target,3,30)\n",
    "print('moyenne , ecart-type : {},{}'.format(moy,et))"
   ]
  },
  {
   "cell_type": "markdown",
   "metadata": {},
   "source": [
    "### Variation du taux d'erreur\n",
    "\n",
    "On souhaite étudier l'influence de la taille de la base d'apprentissage sur le taux d'erreur, pour cela, on doit réaliser l'expérimentation suivante:\n",
    "- séparer la base d'exemples initiale en 2 sous-bases: une base d'apprentissage $BA$ et une base de test $BT$. La base de test sert à évaluer l'arbre de décision construit, et les exemples qu'elle contient ne doivent donc jamais être utilisés dans la phase d'apprentissage.\n",
    "- extraire à partir de la base d'apprentissage $BA$, plusieurs sous-bases d'apprentissage $BA_1$, $BA_2$,... contenant un nombre d'exemples différent. \n",
    "- construire un arbre de décision pour chaque base $BA_i$ et évaluer son taux d'erreur lors de la classification de $BT$.\n",
    "\n",
    "Il est alors possible, ensuite, de tracer la courbe des variations du taux d'erreur en fonction du nombre d'exemples dans la base d'apprentissage.\n",
    "\n"
   ]
  },
  {
   "cell_type": "markdown",
   "metadata": {},
   "source": [
    "<font color=\"RED\" size=\"+1\">**[Q]**</font> Examiner l'arbre obtenu et représenter, sur une feuille de brouillon, la frontière de décision vue sur les 2 dimensions \"petal width\" et \"petal length\". Dans chaque zone définie par cette frontière, indiquer la ou les classes correspondantes.\n",
    " Ecrire une fonction plusieurs_taux_erreur() qui prend en argument \n",
    "- 2 bases de type numpy.ndarray:\n",
    "    - une base de descriptions d'exemples (par exemple celle des Iris: base_iris.data), \n",
    "    - la base des classes correspondantes (par exemple, base_iris.target), \n",
    "- un entier donnant le nombre de classes différentes existantes (par exemple, 3) \n",
    "- un entier nTrain donnant le nombre d'exemples de chaque classe à utiliser pour l'apprentissage\n",
    "- une liste d'entiers $[n_1, n_2,..., n_k]$ donnant des nombre d'exemples de chaque classe à prendre pour construire un arbre de décision\n",
    "\n",
    "Après avoir séparé aléatoirement les 2 bases données en 2 parties (partie_train et partie_test (data et target correspondant)) en prenant nTrain exemples de chaque classe pour l'apprentissage, cette fonction rend la liste $t_1, t_2,..., t_k$ tels que le taux d'erreur $t_i$ est obtenu en construisant un arbre en prenant $n_i$ exemples de la partie_train et en l'évaluant sur la partie_test.\n",
    "\n"
   ]
  },
  {
   "cell_type": "code",
   "execution_count": 25,
   "metadata": {},
   "outputs": [],
   "source": []
  },
  {
   "cell_type": "code",
   "execution_count": 26,
   "metadata": {},
   "outputs": [
    {
     "data": {
      "text/plain": [
       "[0.4888888888888889,\n",
       " 0.044444444444444446,\n",
       " 0.3333333333333333,\n",
       " 0.13333333333333333,\n",
       " 0.15555555555555556,\n",
       " 0.06666666666666667,\n",
       " 0.06666666666666667,\n",
       " 0.044444444444444446,\n",
       " 0.044444444444444446]"
      ]
     },
     "execution_count": 26,
     "metadata": {},
     "output_type": "execute_result"
    }
   ],
   "source": [
    "Liste_nombres= [1, 3, 5, 7, 10, 15, 20, 25, 30]\n",
    "Liste_taux = plusieurs_taux_erreur(base_iris.data,base_iris.target,3,35, Liste_nombres)\n",
    "Liste_taux"
   ]
  },
  {
   "cell_type": "markdown",
   "metadata": {},
   "source": [
    "On peut ensuite tracer la courbe représentant ces variations du taux d'erreur:"
   ]
  },
  {
   "cell_type": "code",
   "execution_count": 27,
   "metadata": {},
   "outputs": [
    {
     "data": {
      "text/plain": [
       "[<matplotlib.lines.Line2D at 0x7f2470785550>]"
      ]
     },
     "execution_count": 27,
     "metadata": {},
     "output_type": "execute_result"
    },
    {
     "data": {
      "image/png": "[encoded data removed]",
      "text/plain": [
       "<Figure size 432x288 with 1 Axes>"
      ]
     },
     "metadata": {},
     "output_type": "display_data"
    }
   ],
   "source": [
    "import matplotlib\n",
    "import matplotlib.pyplot as plt\n",
    "%matplotlib inline  \n",
    "\n",
    "\n",
    "plt.plot(Liste_nombres, Liste_taux)"
   ]
  },
  {
   "cell_type": "markdown",
   "metadata": {},
   "source": [
    "<font color=\"RED\" size=\"+1\">**[Q]**</font> Examiner l'arbre obtenu et représenter, sur une feuille de brouillon, la frontière de décision vue sur les 2 dimensions \"petal width\" et \"petal length\". Dans chaque zone définie par cette frontière, indiquer la ou les classes correspondantes. En utilisant la fonction précédente, tracer la courbe en réalisant 10 expérimentations et en prenant ensuite la moyenne des taux d'erreurs obtenu."
   ]
  },
  {
   "cell_type": "markdown",
   "metadata": {},
   "source": [
    "## D'autres bases"
   ]
  },
  {
   "cell_type": "markdown",
   "metadata": {
    "collapsed": true
   },
   "source": [
    "### La base \"Digits\"\n",
    "\n",
    "<font color=\"RED\" size=\"+1\">**[Q]**</font> Examiner l'arbre obtenu et représenter, sur une feuille de brouillon, la frontière de décision vue sur les 2 dimensions \"petal width\" et \"petal length\". Dans chaque zone définie par cette frontière, indiquer la ou les classes correspondantes. Réaliser la même suite d'expériences que celles réalisées avec la base des Iris, en prenant la base \"Digits\" fournie avec scikit learn.\n",
    "\n",
    "Cette base contient 1797 exemples associés à 10 classes. Ces exemples sont décrits avec 64 attributs.\n",
    "- contruire un arbre de décision en prenant nTrain=25 exemples de chaque classe. Afficher cet arbre.\n",
    "- tracer la courbe des taux d'erreur obtenue en faisant varier nTrain de 10 à 150 (par pas de 10)."
   ]
  },
  {
   "cell_type": "code",
   "execution_count": 28,
   "metadata": {},
   "outputs": [
    {
     "name": "stdout",
     "output_type": "stream",
     "text": [
      "Descriptions de la base digits:\n",
      " [[ 0.  0.  5. ...  0.  0.  0.]\n",
      " [ 0.  0.  0. ... 10.  0.  0.]\n",
      " [ 0.  0.  0. ... 16.  9.  0.]\n",
      " ...\n",
      " [ 0.  0.  1. ...  6.  0.  0.]\n",
      " [ 0.  0.  2. ... 12.  0.  0.]\n",
      " [ 0.  0. 10. ... 12.  1.  0.]]\n",
      "Classes de la base digits: [0 1 2 3 4 5 6 7 8 9]\n",
      "Il y a en tout 1797 exemples\n"
     ]
    }
   ],
   "source": []
  },
  {
   "cell_type": "markdown",
   "metadata": {},
   "source": [
    "### (partie facultative) Bases de l'UCI Machine Learning Repository\n",
    "\n",
    "Ce dépôt contient un grand nombre de bases d'apprentissage disponible librement:\n",
    "http://archive.ics.uci.edu/ml/datasets.html\n",
    "\n",
    "Choisir une base d'apprentissage dans ce site, cette base doit :\n",
    "- être adaptée pour une tâche de classification\n",
    "- ne pas avoir de valeurs manquantes\n",
    "- posséder entre 100 et 1000 exemples\n",
    "\n",
    "<font color=\"RED\" size=\"+1\">**[Q]**</font> Examiner l'arbre obtenu et représenter, sur une feuille de brouillon, la frontière de décision vue sur les 2 dimensions \"petal width\" et \"petal length\". Dans chaque zone définie par cette frontière, indiquer la ou les classes correspondantes. Réaliser la même suite d'expériences que celles réalisées précédemment. Afficher l'arbre construit en prenant 10% des exemples de chaque classe dans la base que vous avez choisie."
   ]
  },
  {
   "cell_type": "code",
   "execution_count": null,
   "metadata": {},
   "outputs": [],
   "source": []
  }
 ],
 "metadata": {
  "kernelspec": {
   "display_name": "Python 3",
   "language": "python",
   "name": "python3"
  },
  "language_info": {
   "codemirror_mode": {
    "name": "ipython",
    "version": 3
   },
   "file_extension": ".py",
   "mimetype": "text/x-python",
   "name": "python",
   "nbconvert_exporter": "python",
   "pygments_lexer": "ipython3",
   "version": "3.7.1"
  }
 },
 "nbformat": 4,
 "nbformat_minor": 1
}
